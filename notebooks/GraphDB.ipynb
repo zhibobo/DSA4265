{
 "cells": [
  {
   "cell_type": "markdown",
   "id": "e1624e84-84d6-4ba2-b5d9-5c916876d2a0",
   "metadata": {},
   "source": [
    "# Connect to Neo4j"
   ]
  },
  {
   "cell_type": "code",
   "execution_count": 3,
   "id": "9c2f0658-bb2b-4663-9be4-2eefaa52bbe6",
   "metadata": {},
   "outputs": [
    {
     "name": "stdout",
     "output_type": "stream",
     "text": [
      "Connection established.\n"
     ]
    }
   ],
   "source": [
    "import dotenv\n",
    "import os\n",
    "from neo4j import GraphDatabase\n",
    "from py2neo import Graph, Node, Relationship\n",
    "from py2neo import Graph, Node, Relationship\n",
    "\n",
    "load_status = dotenv.load_dotenv(\"Neo4j-66cb9e32-Created-2025-03-26.txt\")\n",
    "if load_status is False:\n",
    "    raise RuntimeError('Environment variables not loaded.')\n",
    "\n",
    "URI = os.getenv(\"NEO4J_URI\")\n",
    "AUTH = (os.getenv(\"NEO4J_USERNAME\"), os.getenv(\"NEO4J_PASSWORD\"))\n",
    "\n",
    "with GraphDatabase.driver(URI, auth=AUTH) as driver:\n",
    "    driver.verify_connectivity()\n",
    "    print(\"Connection established.\")"
   ]
  },
  {
   "cell_type": "markdown",
   "id": "8a052b9e-af33-4802-8341-23d0bbe39356",
   "metadata": {},
   "source": [
    "## Create graph"
   ]
  },
  {
   "cell_type": "code",
   "execution_count": null,
   "id": "ce0d8350-a28a-464b-9f1a-be63d4cd4d7c",
   "metadata": {},
   "outputs": [],
   "source": [
    "summary = driver.execute_query(\n",
    "    \"CREATE (:Person {name: $name})\",\n",
    "    name=\"Alice\",\n",
    "    database_=\"neo4j\",\n",
    ").summary\n",
    "print(\"Created {nodes_created} nodes in {time} ms.\".format(\n",
    "    nodes_created=summary.counters.nodes_created,\n",
    "    time=summary.result_available_after\n",
    "))"
   ]
  },
  {
   "cell_type": "code",
   "execution_count": null,
   "id": "94c7704d-25f1-431f-843c-c5cd84ec1140",
   "metadata": {},
   "outputs": [],
   "source": [
    "records, summary, keys = driver.execute_query(\n",
    "    \"MATCH (p:Person) RETURN p.name AS name\",\n",
    "    database_=\"neo4j\",\n",
    ")\n",
    "\n",
    "# Loop through results and do something with them\n",
    "for record in records:\n",
    "    print(record.data())  # obtain record as dict\n",
    "\n",
    "# Summary information\n",
    "print(\"The query `{query}` returned {records_count} records in {time} ms.\".format(\n",
    "    query=summary.query, records_count=len(records),\n",
    "    time=summary.result_available_after\n",
    "))"
   ]
  },
  {
   "cell_type": "code",
   "execution_count": null,
   "id": "57e7ea70-dabe-44bb-8097-fb5ef51a6d74",
   "metadata": {
    "scrolled": true
   },
   "outputs": [],
   "source": []
  },
  {
   "cell_type": "code",
   "execution_count": null,
   "id": "c98dbd5a-39ea-476d-ac66-a86f0c8743de",
   "metadata": {},
   "outputs": [],
   "source": []
  },
  {
   "cell_type": "markdown",
   "id": "11f65b1c-5b4e-4cb0-a184-7b65d33e67a3",
   "metadata": {},
   "source": [
    "## Visualise Graph"
   ]
  },
  {
   "cell_type": "code",
   "execution_count": null,
   "id": "b7997b51-1bf5-42f1-9d77-4fb460ad1a22",
   "metadata": {},
   "outputs": [],
   "source": [
    "query = \"MATCH (n)-[r]->(m) RETURN n, r, m\"\n",
    "results = graph.run(query)\n",
    "\n",
    "# Create NetworkX graph\n",
    "G = nx.DiGraph()\n",
    "\n",
    "# Add nodes and edges\n",
    "for record in results:\n",
    "    node1 = record[\"n\"][\"name\"]\n",
    "    node2 = record[\"m\"][\"name\"]\n",
    "    relationship = record[\"r\"].type\n",
    "    \n",
    "    G.add_node(node1)\n",
    "    G.add_node(node2)\n",
    "    G.add_edge(node1, node2, label=relationship)\n",
    "\n",
    "# Draw the graph\n",
    "plt.figure(figsize=(8, 5))\n",
    "pos = nx.spring_layout(G)\n",
    "nx.draw(G, pos, with_labels=True, node_color=\"lightblue\", edge_color=\"gray\", node_size=3000, font_size=10)\n",
    "edge_labels = {(u, v): d[\"label\"] for u, v, d in G.edges(data=True)}\n",
    "nx.draw_networkx_edge_labels(G, pos, edge_labels=edge_labels, font_size=8)\n",
    "plt.title(\"Neo4j Graph Visualization\")\n",
    "plt.show()\n"
   ]
  },
  {
   "cell_type": "code",
   "execution_count": null,
   "id": "16f2cf8e-affa-4975-bc82-19229f900358",
   "metadata": {},
   "outputs": [],
   "source": [
    "for heading, content in zip(headings_level_1, content_level_1):\n",
    "    section_node = Node(\"Section\", name=heading, content=content)\n",
    "    graph.create(section_node)\n",
    "    \n",
    "    for subheading, subcontent in zip(headings_level_2, content_level_2):\n",
    "        if subheading.startswith(heading):  # Ensuring it's a child of the current section\n",
    "            subsection_node = Node(\"Subsection\", name=subheading, content=subcontent)\n",
    "            graph.create(subsection_node)\n",
    "            rel = Relationship(section_node, \"HAS_SUBSECTION\", subsection_node)\n",
    "            graph.create(rel)\n"
   ]
  },
  {
   "cell_type": "markdown",
   "id": "88fcb775-08c1-4e90-8e90-5ead057a1922",
   "metadata": {},
   "source": [
    "## Visualisation in Neo4j"
   ]
  },
  {
   "cell_type": "code",
   "execution_count": null,
   "id": "2b6a48a5-80b8-4172-8059-4a5009de5452",
   "metadata": {},
   "outputs": [],
   "source": []
  },
  {
   "cell_type": "code",
   "execution_count": null,
   "id": "43fd6372-482f-4db0-a32c-d2573dfc18d5",
   "metadata": {},
   "outputs": [],
   "source": []
  }
 ],
 "metadata": {
  "kernelspec": {
   "display_name": "(4265_assignment1)",
   "language": "python",
   "name": "4265_assignment1"
  },
  "language_info": {
   "codemirror_mode": {
    "name": "ipython",
    "version": 3
   },
   "file_extension": ".py",
   "mimetype": "text/x-python",
   "name": "python",
   "nbconvert_exporter": "python",
   "pygments_lexer": "ipython3",
   "version": "3.9.21"
  }
 },
 "nbformat": 4,
 "nbformat_minor": 5
}
