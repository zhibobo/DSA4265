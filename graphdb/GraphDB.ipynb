{
 "cells": [
  {
   "cell_type": "markdown",
   "id": "d064835f-7c9c-4b1d-a96f-0fef52acc985",
   "metadata": {},
   "source": [
    "# Run Python file"
   ]
  },
  {
   "cell_type": "code",
   "execution_count": null,
   "id": "cb01657b-3b6b-41be-9d5a-182bf7cf5c3b",
   "metadata": {},
   "outputs": [],
   "source": [
    "from GraphDB import GraphDB\n",
    "\n",
    "graphdb = GraphDB(json_file = \"../ba_data_extraction/banking_act.json\",\n",
    "                      visualisation = True)\n",
    "graphdb.run()"
   ]
  },
  {
   "cell_type": "markdown",
   "id": "e1624e84-84d6-4ba2-b5d9-5c916876d2a0",
   "metadata": {},
   "source": [
    "# Connect to Neo4j"
   ]
  },
  {
   "cell_type": "code",
   "execution_count": null,
   "id": "9c2f0658-bb2b-4663-9be4-2eefaa52bbe6",
   "metadata": {},
   "outputs": [],
   "source": [
    "import dotenv\n",
    "import os\n",
    "from neo4j import GraphDatabase\n",
    "from py2neo import Graph, Node, Relationship\n",
    "from py2neo import Graph, Node, Relationship\n",
    "import json\n",
    "import networkx as nx\n",
    "import matplotlib.pyplot as plt\n",
    "\n",
    "load_status = dotenv.load_dotenv(\"../Neo4j-66cb9e32-Created-2025-03-26.txt\")\n",
    "if load_status is False:\n",
    "    raise RuntimeError('Environment variables not loaded.')\n",
    "\n",
    "URI = os.getenv(\"NEO4J_URI\")\n",
    "AUTH = (os.getenv(\"NEO4J_USERNAME\"), os.getenv(\"NEO4J_PASSWORD\"))"
   ]
  },
  {
   "cell_type": "markdown",
   "id": "c948b5bb-378b-419f-a5b4-9a4d5f8a4baf",
   "metadata": {},
   "source": [
    "# Load json to graph"
   ]
  },
  {
   "cell_type": "code",
   "execution_count": null,
   "id": "de28bf90-faea-4495-8aaa-5729a5a4be31",
   "metadata": {},
   "outputs": [],
   "source": [
    "def connect_to_database(): \n",
    "    driver = GraphDatabase.driver(URI, auth=AUTH)\n",
    "    driver.verify_connectivity()\n",
    "    print(\"Connection established.\")\n",
    "    return driver\n",
    "\n",
    "def load_json_to_graph(json_file):\n",
    "    driver = connect_to_database()\n",
    "\n",
    "    with open(json_file, \"r\") as file:\n",
    "        data = json.load(file)\n",
    "\n",
    "    #sections = data.get(\"sections\", [])\n",
    "\n",
    "    with driver.session() as session:\n",
    "        # Create nodes\n",
    "        for data_section in data:\n",
    "            text_id = data_section.get(\"id\")\n",
    "            text = data_section.get(\"text\", \"\")\n",
    "            metadata = data_section.get(\"metadata\")\n",
    "            references = metadata.get('references', []) if metadata else []\n",
    "            \n",
    "            session.run(\"\"\"\n",
    "                MERGE (s:Section {id: $text_id})\n",
    "                SET s.text_id = $text_id, s.text = $text\n",
    "            \"\"\", text_id=text_id, text=text) \n",
    "\n",
    "            # Create downstream relationships (current section → references)\n",
    "            for ref_id in references:\n",
    "                session.run(\"\"\"\n",
    "                    MATCH (s1:Section {id: $text_id})\n",
    "                    MATCH (s2:Section {id: $ref_id})\n",
    "                    MERGE (s1)-[:REFERS_TO]->(s2)\n",
    "                \"\"\", text_id=text_id, ref_id=ref_id)\n",
    "\n",
    "                # Create upstream relationships (references → current section)\n",
    "                session.run(\"\"\"\n",
    "                    MATCH (s1:Section {id: $ref_id})\n",
    "                    MATCH (s2:Section {id: $text_id})\n",
    "                    MERGE (s1)-[:REFERRED_BY]->(s2)\n",
    "                \"\"\", text_id=text_id, ref_id=ref_id)\n",
    "\n",
    "    driver.close()"
   ]
  },
  {
   "cell_type": "code",
   "execution_count": null,
   "id": "b724c06f-8699-4c16-a51b-e0013593bcab",
   "metadata": {},
   "outputs": [],
   "source": [
    "json_file_path = \"../ba_data_extraction/banking_act.json\"\n",
    "load_json_to_graph(json_file_path)\n"
   ]
  },
  {
   "cell_type": "markdown",
   "id": "88fcb775-08c1-4e90-8e90-5ead057a1922",
   "metadata": {},
   "source": [
    "## Visualisation "
   ]
  },
  {
   "cell_type": "code",
   "execution_count": null,
   "id": "0475179c-cdfd-4cde-bd6f-7ef388a40c9a",
   "metadata": {},
   "outputs": [],
   "source": [
    "def fetch_graph_data():\n",
    "    driver = GraphDatabase.driver(URI, auth=AUTH)\n",
    "    G = nx.DiGraph()\n",
    "\n",
    "    with driver.session() as session:\n",
    "        # Fetch nodes\n",
    "        nodes = session.run(\"MATCH (n:Section) RETURN n.id\")\n",
    "        for record in nodes:\n",
    "            G.add_node(record[\"n.id\"])\n",
    "\n",
    "        # Fetch edges\n",
    "        edges = session.run(\"\"\"\n",
    "            MATCH (a:Section)-[r:REFERS_TO]->(b:Section)\n",
    "            RETURN a.id AS source, b.id AS target\n",
    "        \"\"\")\n",
    "        for record in edges:\n",
    "            G.add_edge(record[\"source\"], record[\"target\"])\n",
    "\n",
    "    driver.close()\n",
    "    return G"
   ]
  },
  {
   "cell_type": "code",
   "execution_count": null,
   "id": "05bda86c-fe6a-4c59-a93b-0e3d24994cd5",
   "metadata": {},
   "outputs": [],
   "source": [
    "def fetch_sample_graph_data():\n",
    "    driver = GraphDatabase.driver(URI, auth=AUTH)\n",
    "    G = nx.DiGraph()\n",
    "\n",
    "    with driver.session() as session:\n",
    "        # Fetch nodes\n",
    "        nodes = session.run(\"MATCH (n:Section) RETURN n.id\")\n",
    "        for record in nodes:\n",
    "            G.add_node(record[\"n.id\"])\n",
    "\n",
    "        # Fetch edges\n",
    "        edges = session.run('''\n",
    "            MATCH (a:Section)-[r]->(b:Section)  \n",
    "            RETURN a, r, b  \n",
    "            LIMIT 10;\n",
    "            ''')\n",
    "        \n",
    "    driver.close()\n",
    "    return G"
   ]
  },
  {
   "cell_type": "code",
   "execution_count": null,
   "id": "adf042c6-b50d-4f63-88f3-f91c5e63afd5",
   "metadata": {},
   "outputs": [],
   "source": [
    "G = fetch_sample_graph_data()\n",
    "plt.figure(figsize=(12, 8))\n",
    "pos = nx.spring_layout(G, k=0.5)\n",
    "nx.draw(G, pos, with_labels=True, node_size=3000, node_color=\"lightblue\", edge_color=\"gray\", font_size=10, font_weight=\"bold\")\n",
    "plt.show()"
   ]
  },
  {
   "cell_type": "code",
   "execution_count": null,
   "id": "bef05d96-d132-40a6-b6b6-37b78111dd4d",
   "metadata": {},
   "outputs": [],
   "source": [
    "G = fetch_graph_data()\n",
    "plt.figure(figsize=(12, 8))\n",
    "pos = nx.spring_layout(G, k=0.5)\n",
    "nx.draw(G, pos, with_labels=True, node_size=3000, node_color=\"lightblue\", edge_color=\"gray\", font_size=10, font_weight=\"bold\")\n",
    "plt.show()"
   ]
  },
  {
   "cell_type": "code",
   "execution_count": null,
   "id": "b7997b51-1bf5-42f1-9d77-4fb460ad1a22",
   "metadata": {},
   "outputs": [],
   "source": [
    "query = \"MATCH (n)-[r]->(m) RETURN n, r, m\"\n",
    "results = graph.run(query)\n",
    "\n",
    "# Create NetworkX graph\n",
    "G = nx.DiGraph()\n",
    "\n",
    "# Add nodes and edges\n",
    "for record in results:\n",
    "    node1 = record[\"n\"][\"name\"]\n",
    "    node2 = record[\"m\"][\"name\"]\n",
    "    relationship = record[\"r\"].type\n",
    "    \n",
    "    G.add_node(node1)\n",
    "    G.add_node(node2)\n",
    "    G.add_edge(node1, node2, label=relationship)\n",
    "\n",
    "# Draw the graph\n",
    "plt.figure(figsize=(8, 5))\n",
    "pos = nx.spring_layout(G)\n",
    "nx.draw(G, pos, with_labels=True, node_color=\"lightblue\", edge_color=\"gray\", node_size=3000, font_size=10)\n",
    "edge_labels = {(u, v): d[\"label\"] for u, v, d in G.edges(data=True)}\n",
    "nx.draw_networkx_edge_labels(G, pos, edge_labels=edge_labels, font_size=8)\n",
    "plt.title(\"Neo4j Graph Visualization\")\n",
    "plt.show()\n"
   ]
  },
  {
   "cell_type": "code",
   "execution_count": null,
   "id": "16f2cf8e-affa-4975-bc82-19229f900358",
   "metadata": {},
   "outputs": [],
   "source": [
    "for heading, content in zip(headings_level_1, content_level_1):\n",
    "    section_node = Node(\"Section\", name=heading, content=content)\n",
    "    graph.create(section_node)\n",
    "    \n",
    "    for subheading, subcontent in zip(headings_level_2, content_level_2):\n",
    "        if subheading.startswith(heading):  # Ensuring it's a child of the current section\n",
    "            subsection_node = Node(\"Subsection\", name=subheading, content=subcontent)\n",
    "            graph.create(subsection_node)\n",
    "            rel = Relationship(section_node, \"HAS_SUBSECTION\", subsection_node)\n",
    "            graph.create(rel)\n"
   ]
  },
  {
   "cell_type": "code",
   "execution_count": null,
   "id": "0f089a7c-0888-43d6-bb09-41564c0358ed",
   "metadata": {},
   "outputs": [],
   "source": [
    "def count_connected_components():\n",
    "    query = \"\"\"\n",
    "    CALL gds.wcc.stream('myGraph')\n",
    "    YIELD nodeId, componentId\n",
    "    RETURN COUNT(DISTINCT componentId) AS num_connected_components;\n",
    "    \"\"\"\n",
    "    \n",
    "    with GraphDatabase.driver(URI, auth=AUTH) as driver:\n",
    "        with driver.session() as session:\n",
    "            result = session.run(query)\n",
    "            for record in result:\n",
    "                print(\"Number of Connected Components:\", record[\"num_connected_components\"])\n",
    "\n",
    "    driver.close()"
   ]
  },
  {
   "cell_type": "code",
   "execution_count": null,
   "id": "ea5b2246-7a7a-4468-a51a-d3f234f775b7",
   "metadata": {},
   "outputs": [],
   "source": [
    "count_connected_components()"
   ]
  },
  {
   "cell_type": "code",
   "execution_count": null,
   "id": "e2cead48-7f3b-4840-873d-96f150dc457a",
   "metadata": {},
   "outputs": [],
   "source": []
  }
 ],
 "metadata": {
  "kernelspec": {
   "display_name": "(4265_assignment1)",
   "language": "python",
   "name": "4265_assignment1"
  },
  "language_info": {
   "codemirror_mode": {
    "name": "ipython",
    "version": 3
   },
   "file_extension": ".py",
   "mimetype": "text/x-python",
   "name": "python",
   "nbconvert_exporter": "python",
   "pygments_lexer": "ipython3",
   "version": "3.9.21"
  }
 },
 "nbformat": 4,
 "nbformat_minor": 5
}
