{
 "cells": [
  {
   "cell_type": "code",
   "execution_count": 2,
   "id": "c9f993ce",
   "metadata": {},
   "outputs": [
    {
     "name": "stderr",
     "output_type": "stream",
     "text": [
      "c:\\Users\\Victoria Magdalena\\AppData\\Local\\Programs\\Python\\Python310\\lib\\site-packages\\tqdm\\auto.py:21: TqdmWarning: IProgress not found. Please update jupyter and ipywidgets. See https://ipywidgets.readthedocs.io/en/stable/user_install.html\n",
      "  from .autonotebook import tqdm as notebook_tqdm\n"
     ]
    }
   ],
   "source": [
    "import pandas as pd\n",
    "from tqdm import tqdm\n",
    "import re\n",
    "from ba_data_extraction.banking_act_preprocessor import BankingActPreprocessor\n",
    "from mas_data_extraction.mas_preprocessor import MASPreprocessor\n",
    "from vectordb_retriever import VectorDbRetriever, GraphDbRetriever, Reranker\n",
    "from weighted_vectordb_retriever import WeightedGraphDbRetriever, WeightedReranker\n",
    "from dfs_vectordb_retriever import DFSRetriever\n",
    "from classify_query import QueryClassifierAgent\n",
    "from summary_and_output import SummaryAgent, OutputAgent\n",
    "from source_router import SourceRouterAgent\n",
    "from llm_as_judge import LLMAsJudge\n",
    "from sentence_transformers import SentenceTransformer, util"
   ]
  },
  {
   "cell_type": "code",
   "execution_count": 3,
   "id": "54a9a464",
   "metadata": {},
   "outputs": [],
   "source": [
    "pd.set_option('display.max_columns', None)"
   ]
  },
  {
   "cell_type": "code",
   "execution_count": 62,
   "id": "da0c9610",
   "metadata": {},
   "outputs": [],
   "source": [
    "ba_preprocessor = BankingActPreprocessor()\n",
    "ba_chunks = ba_preprocessor.get_chunks()\n",
    "ba_dict = {}\n",
    "for chunk in ba_chunks:\n",
    "    ba_dict[chunk['id']] = chunk['text']\n",
    "\n",
    "mas_preprocessor = MASPreprocessor()\n",
    "mas_chunks = mas_preprocessor.get_chunks()\n",
    "mas_dict = {}\n",
    "for chunk in mas_chunks:\n",
    "    mas_dict[chunk['id']] = chunk['text']\n",
    "\n",
    "combined_dict = {**ba_dict, **mas_dict}\n",
    "\n",
    "def get_text(id, dict=combined_dict):\n",
    "    return dict[id]\n",
    "\n",
    "model = SentenceTransformer('all-MiniLM-L6-v2')\n",
    "def get_similarity_score(chunk1, chunk2):\n",
    "    embeddings = model.encode([chunk1, chunk2])\n",
    "    score = util.cos_sim(embeddings[0], embeddings[1]).item()\n",
    "    return score\n",
    "\n",
    "def get_ranking_score(retrieved):\n",
    "    \n",
    "    # Initialize total penalty score\n",
    "    correct = sorted(retrieved, reverse=True)\n",
    "\n",
    "    retrieved = [correct.index(i) for i in retrieved]\n",
    "    correct = [correct.index(i) for i in correct]\n",
    "\n",
    "    total_penalty = 0\n",
    "    max_penalty = 0\n",
    "    n = len(correct)\n",
    "    \n",
    "    # Compare each pair of chunks in the retrieved list\n",
    "    for i in range(n):\n",
    "        for j in range(i + 1, n):\n",
    "            # Check if there is an inversion (higher value chunk before lower value chunk)\n",
    "            if correct.index(retrieved[i]) > correct.index(retrieved[j]):\n",
    "                # Calculate the penalty based on the difference in chunk values\n",
    "                penalty = abs(retrieved[i] - retrieved[j])\n",
    "                total_penalty += penalty  # Add penalty to total\n",
    "\n",
    "    for i in range(n):\n",
    "        for j in range(i + 1, n):\n",
    "            # Maximum possible penalty when elements are completely reversed\n",
    "            max_penalty += abs(correct[i] - correct[j])\n",
    "        \n",
    "    # Normalize the penalty score to be between 0 and 1\n",
    "    normalized_penalty = total_penalty / max_penalty\n",
    "    \n",
    "    # Return the normalized penalty (1 is the worst, 0 is the best)\n",
    "    return min(1, normalized_penalty)\n",
    "\n",
    "def get_retriever_score(reference_ids, top_k_chunks):\n",
    "    # Calculate position score\n",
    "    position_scores = [] \n",
    "    # Using semantic similarity score \n",
    "    max_scores = []\n",
    "    rank_scores = []\n",
    "    \n",
    "    # 'reference_retrieval':['ba-1970-2.1', 'ba-1970-4.2']\n",
    "    for ref_id in reference_ids:\n",
    "        # Get position_scores \n",
    "        if ref_id in top_k_chunks:\n",
    "            position = top_k_chunks.index(ref_id) \n",
    "        else:\n",
    "            position = len(top_k_chunks)\n",
    "        position_score = (len(top_k_chunks) - position) / len(top_k_chunks)\n",
    "        position_scores.append(position_score)\n",
    "\n",
    "        # Get semantic similarity score between the reference chunk and the retrieved chunk\n",
    "        retrieved_chunks_score = [get_similarity_score(get_text(ref_id), get_text(chunk_id)) for chunk_id in top_k_chunks]\n",
    "        print('Retrieved chunks similarity score:', retrieved_chunks_score)\n",
    "\n",
    "        # Store max similarity score (range -1 to 1)\n",
    "        max_score = max(retrieved_chunks_score)\n",
    "        max_scores.append(max_score)\n",
    "        \n",
    "        # Evaluate the ranking/order  \n",
    "        rank_score = get_ranking_score(retrieved_chunks_score)\n",
    "        rank_scores.append(rank_score)\n",
    "\n",
    "    print('Position scores:', position_scores)\n",
    "    print('Max scores:', max_scores)\n",
    "    print('Rank scores:', rank_scores)\n",
    "\n",
    "    agg_position_score = max(position_scores)\n",
    "    agg_max_score = max(max_scores)\n",
    "    agg_rank_score = max(rank_scores)\n",
    "\n",
    "    return agg_position_score, agg_max_score, agg_rank_score, position_scores, max_scores, rank_scores\n",
    "\n",
    "def get_evaluation(query, correct_source, correct_type, reference_retrieval, reference_generation, n_hop, retriever_method):  \n",
    "    user_query = query\n",
    "    \n",
    "    output = {}\n",
    "    output['query'] = query\n",
    "    print('Query:', query)\n",
    "\n",
    "    # Determine data source \n",
    "    output['correct_source'] = correct_source\n",
    "    router = SourceRouterAgent()\n",
    "    data_source = router.get_source(user_query)\n",
    "    print(\"Raw Data Source:\", data_source) \n",
    "\n",
    "    # Cleaning data source\n",
    "    if 'ba' in data_source.lower():\n",
    "        data_source = 'ba'\n",
    "    elif 'mas' in data_source.lower():\n",
    "        data_source = 'mas'\n",
    "    else:\n",
    "        output['source'] = data_source\n",
    "        output['is_source_correct'] = 0\n",
    "        return output \n",
    "\n",
    "    output['source'] = data_source\n",
    "    if data_source == correct_source:\n",
    "        output['is_source_correct'] = 1\n",
    "    else: \n",
    "        output['is_source_correct'] = 0\n",
    "\n",
    "    # Classify the query\n",
    "    output['correct_type'] = correct_type\n",
    "    classifier_agent = QueryClassifierAgent()\n",
    "    classification = classifier_agent.classify_query(user_query)\n",
    "    print(\"Raw Classification:\", classification)\n",
    "\n",
    "    if 'factual' in classification.lower():\n",
    "        classification = 'factual'\n",
    "    elif 'reasoning' in classification.lower():\n",
    "        classification = 'reasoning'\n",
    "    else: \n",
    "        # assign misclassification as factual for simplicity\n",
    "        classification = 'factual'\n",
    "    \n",
    "    output['type'] = classification\n",
    "    if classification == correct_type: \n",
    "        output['is_type_correct'] = 1\n",
    "    else: \n",
    "        output['is_type_correct'] = 0 \n",
    "        \n",
    "    # Retrieve top-k chunks from VectorDB \n",
    "    vectorretriever = VectorDbRetriever(top_k=10)\n",
    "    top_k_chunks = vectorretriever.get_top_k_chunks(user_query, data_source)\n",
    "    print(\"VectorDB Chunks:\", top_k_chunks)\n",
    "    agg_position_score, agg_max_score, agg_rank_score, position_scores, max_scores, rank_scores = get_retriever_score(reference_retrieval, top_k_chunks)\n",
    "    \n",
    "    output['reference_retrieval'] = reference_retrieval\n",
    "    output['generated_retrieval'] = top_k_chunks\n",
    "    output['retrieval_position_scores'] = position_scores\n",
    "    output['retrieval_max_position_score'] = agg_position_score\n",
    "    output['retrieval_best_similarity_scores'] = max_scores\n",
    "    output['retrieval_max_similarity_score'] = agg_max_score\n",
    "    output['retrieval_rank_similarity_scores'] = rank_scores\n",
    "    output['retrieval_max_rank_similarity_score'] = agg_rank_score\n",
    "    \n",
    "    # GraphDB Retriever \n",
    "    output['graphdb_retrieval_method'] = retriever_method\n",
    "    output['n_hops'] = n_hop\n",
    "    if retriever_method == 'bfs':\n",
    "        graphretriever = GraphDbRetriever(hops=n_hop)\n",
    "        appended_chunks = graphretriever.get_appended_chunks(top_k_chunks, data_source)\n",
    "        reranker = Reranker(top_k=5)\n",
    "    elif retriever_method == 'weighted':\n",
    "        graphretriever = WeightedGraphDbRetriever(hops=n_hop)\n",
    "        appended_chunks = graphretriever.get_appended_chunks(top_k_chunks, data_source)\n",
    "        reranker = WeightedReranker(top_k=5)\n",
    "    elif retriever_method == 'dfs':\n",
    "        graphretriever = DFSRetriever(path_length=n_hop)\n",
    "        appended_chunks = graphretriever.run_DFS(user_query, top_k_chunks, data_source)\n",
    "        reranker = Reranker(top_k=5)\n",
    "\n",
    "    # Rerank top_k appended chunks \n",
    "    reranked_chunks = reranker.rerank(user_query, appended_chunks)\n",
    "    print(reranked_chunks)\n",
    "    print('Length Reranked chunks:', len(reranked_chunks))\n",
    "\n",
    "    # Extrack reranked chunk ids\n",
    "    reranked_ids = []\n",
    "    for chunk in reranked_chunks:\n",
    "        if retriever_method == 'weighted':\n",
    "            id_pattern = re.search(r'^ID:\\s(.*?)(?=\\n)', chunk)\n",
    "            chunk_id = id_pattern.group(1) if id_pattern else ''\n",
    "            if chunk_id != '':\n",
    "                reranked_ids.append(chunk_id)\n",
    "        else:\n",
    "            id_pattern = re.match(r\"\\(([^)]+)\\)\", chunk)\n",
    "            chunk_id = id_pattern.group(1) if id_pattern else ''\n",
    "            if chunk_id != '':\n",
    "                reranked_ids.append(chunk_id)\n",
    "\n",
    "    print('Reranker ids:', reranked_ids)\n",
    "    \n",
    "    agg_position_score, agg_max_score, agg_rank_score, position_scores, max_scores, rank_scores = get_retriever_score(reference_retrieval, reranked_ids)\n",
    "    output['reranker_generated_retrieval'] = reranked_ids\n",
    "    output['reranker_position_scores'] = position_scores\n",
    "    output['reranker_max_position_score'] = agg_position_score\n",
    "    output['reranker_best_similarity_scores'] = max_scores\n",
    "    output['reranker_max_similarity_score'] = agg_max_score\n",
    "    output['reranker_rank_similarity_scores'] = rank_scores\n",
    "    output['reranker_max_rank_similarity_score'] = agg_rank_score\n",
    "    \n",
    "    # Summary reranked appended chunks \n",
    "    summary_agent = SummaryAgent()\n",
    "    judge = LLMAsJudge()\n",
    "    summarized_chunks = []\n",
    "    summary_scores = []\n",
    "    for chunk in reranked_chunks:\n",
    "        id_pattern = re.match(r\"\\(([^)]+)\\)\", chunk)\n",
    "\n",
    "        if id_pattern:\n",
    "            chunk_id = id_pattern.group(1) \n",
    "            if data_source == 'ba':\n",
    "                chunk_id = chunk_id.replace('ba', 'Banking Act')\n",
    "            elif data_source == 'mas':\n",
    "                chunk_id = chunk_id.replace('mas', 'MAS')\n",
    "\n",
    "            before, sep, after = chunk_id.rpartition('-')\n",
    "            chunk_id = before + ', ' + after\n",
    "            chunk_id = chunk_id.replace('-', ' ').title()\n",
    "        else: \n",
    "            chunk_id = ''    \n",
    "\n",
    "        summary = summary_agent.summarize_text(chunk, user_query)\n",
    "        summary = summary.replace('\\n', ' ')\n",
    "        summarized_chunks.append(f'{chunk_id}: {summary}')\n",
    "\n",
    "        # Evaluate summary using LLM As Judge\n",
    "        summary_score = judge.judge_summary(user_query, chunk, summary)\n",
    "        summary_score = re.findall(r'\\d+', summary_score)\n",
    "        summary_score = int(summary_score[0]) if summary_score else 0\n",
    "        summary_scores.append(summary_score)\n",
    "    final_chunks = '\\n\\n'.join(summarized_chunks)\n",
    "    output['summary_score'] = sum(summary_scores)/len(summary_scores)\n",
    "\n",
    "    # Get final answer\n",
    "    output_agent = OutputAgent()\n",
    "    final_answer = output_agent.output_response(data_source, classification, user_query, summarized_chunks=final_chunks)\n",
    "    output['reference_answer'] = reference_generation\n",
    "    output['generated_answer'] = final_answer\n",
    "\n",
    "    # Evaluate output agent with LLM As Judge \n",
    "    answer_score = judge.judge_answer(user_query, reference_generation, final_answer)\n",
    "    answer_score = re.findall(r'\\d+', answer_score)\n",
    "    answer_score = int(answer_score[0]) if answer_score else 0\n",
    "    output['answer_score'] = answer_score\n",
    "    print('Answer score:', answer_score)\n",
    "\n",
    "    print('---------------------------------------------------\\n')\n",
    "    return output"
   ]
  },
  {
   "cell_type": "code",
   "execution_count": 5,
   "id": "3cb5e4ef",
   "metadata": {},
   "outputs": [
    {
     "data": {
      "text/html": [
       "<div>\n",
       "<style scoped>\n",
       "    .dataframe tbody tr th:only-of-type {\n",
       "        vertical-align: middle;\n",
       "    }\n",
       "\n",
       "    .dataframe tbody tr th {\n",
       "        vertical-align: top;\n",
       "    }\n",
       "\n",
       "    .dataframe thead th {\n",
       "        text-align: right;\n",
       "    }\n",
       "</style>\n",
       "<table border=\"1\" class=\"dataframe\">\n",
       "  <thead>\n",
       "    <tr style=\"text-align: right;\">\n",
       "      <th></th>\n",
       "      <th>query</th>\n",
       "      <th>correct_source</th>\n",
       "      <th>correct_type</th>\n",
       "      <th>reference_retrieval</th>\n",
       "      <th>reference_generation</th>\n",
       "    </tr>\n",
       "  </thead>\n",
       "  <tbody>\n",
       "    <tr>\n",
       "      <th>0</th>\n",
       "      <td>What is the minimum paid-up capital required f...</td>\n",
       "      <td>ba</td>\n",
       "      <td>factual</td>\n",
       "      <td>ba-1970-9.1</td>\n",
       "      <td>A bank incorporated in Singapore must have a m...</td>\n",
       "    </tr>\n",
       "    <tr>\n",
       "      <th>1</th>\n",
       "      <td>What is the minimum capital requirement for a ...</td>\n",
       "      <td>ba</td>\n",
       "      <td>factual</td>\n",
       "      <td>ba-1970-9.1</td>\n",
       "      <td>A foreign bank must have head office capital f...</td>\n",
       "    </tr>\n",
       "    <tr>\n",
       "      <th>2</th>\n",
       "      <td>What are the penalties for individuals who ill...</td>\n",
       "      <td>ba</td>\n",
       "      <td>factual</td>\n",
       "      <td>ba-1970-4a.4</td>\n",
       "      <td>For an individual who contravenes these provis...</td>\n",
       "    </tr>\n",
       "    <tr>\n",
       "      <th>3</th>\n",
       "      <td>What are the restrictions on advertising credi...</td>\n",
       "      <td>ba</td>\n",
       "      <td>factual</td>\n",
       "      <td>ba-1970-57.1, ba-1970-57.2, ba-1970-57.3, ba-1...</td>\n",
       "      <td>In Singapore, any advertisement offering or in...</td>\n",
       "    </tr>\n",
       "    <tr>\n",
       "      <th>4</th>\n",
       "      <td>Is a bank allowed to appeal a licence revocati...</td>\n",
       "      <td>ba</td>\n",
       "      <td>factual</td>\n",
       "      <td>ba-1970-20.4</td>\n",
       "      <td>Yes, a bank whose licence has been revoked has...</td>\n",
       "    </tr>\n",
       "    <tr>\n",
       "      <th>5</th>\n",
       "      <td>Our bank has suffered significant losses in a ...</td>\n",
       "      <td>ba</td>\n",
       "      <td>reasoning</td>\n",
       "      <td>ba-1970-9.3a, ba-1970-58.8</td>\n",
       "      <td>When a bank’s losses reduce its capital funds ...</td>\n",
       "    </tr>\n",
       "    <tr>\n",
       "      <th>6</th>\n",
       "      <td>A bank promotes its credit card services by ru...</td>\n",
       "      <td>ba</td>\n",
       "      <td>reasoning</td>\n",
       "      <td>ba-1970-57.1, ba-1970-57.2, ba-1970-57.3, ba-1...</td>\n",
       "      <td>Under the regulations, only a licensed entity ...</td>\n",
       "    </tr>\n",
       "    <tr>\n",
       "      <th>7</th>\n",
       "      <td>Imagine a bank that has repeatedly delayed the...</td>\n",
       "      <td>ba</td>\n",
       "      <td>reasoning</td>\n",
       "      <td>ba-1970-25.2, ba-1970-20.5</td>\n",
       "      <td>The failure to timely publish audited financia...</td>\n",
       "    </tr>\n",
       "    <tr>\n",
       "      <th>8</th>\n",
       "      <td>A bank plans to repurchase its shares to reduc...</td>\n",
       "      <td>ba</td>\n",
       "      <td>reasoning</td>\n",
       "      <td>ba-1970-9.3, ba-1970-25.1</td>\n",
       "      <td>The bank must not reduce its paid-up capital o...</td>\n",
       "    </tr>\n",
       "    <tr>\n",
       "      <th>9</th>\n",
       "      <td>Consider a scenario where a bank repeatedly en...</td>\n",
       "      <td>ba</td>\n",
       "      <td>reasoning</td>\n",
       "      <td>ba-1970-57.3, ba-1970-57.4, ba-1970-57.5, ba-1...</td>\n",
       "      <td>Unauthorized advertising for credit card servi...</td>\n",
       "    </tr>\n",
       "  </tbody>\n",
       "</table>\n",
       "</div>"
      ],
      "text/plain": [
       "                                               query correct_source  \\\n",
       "0  What is the minimum paid-up capital required f...             ba   \n",
       "1  What is the minimum capital requirement for a ...             ba   \n",
       "2  What are the penalties for individuals who ill...             ba   \n",
       "3  What are the restrictions on advertising credi...             ba   \n",
       "4  Is a bank allowed to appeal a licence revocati...             ba   \n",
       "5  Our bank has suffered significant losses in a ...             ba   \n",
       "6  A bank promotes its credit card services by ru...             ba   \n",
       "7  Imagine a bank that has repeatedly delayed the...             ba   \n",
       "8  A bank plans to repurchase its shares to reduc...             ba   \n",
       "9  Consider a scenario where a bank repeatedly en...             ba   \n",
       "\n",
       "  correct_type                                reference_retrieval  \\\n",
       "0      factual                                        ba-1970-9.1   \n",
       "1      factual                                        ba-1970-9.1   \n",
       "2      factual                                       ba-1970-4a.4   \n",
       "3      factual  ba-1970-57.1, ba-1970-57.2, ba-1970-57.3, ba-1...   \n",
       "4      factual                                       ba-1970-20.4   \n",
       "5    reasoning                         ba-1970-9.3a, ba-1970-58.8   \n",
       "6    reasoning  ba-1970-57.1, ba-1970-57.2, ba-1970-57.3, ba-1...   \n",
       "7    reasoning                         ba-1970-25.2, ba-1970-20.5   \n",
       "8    reasoning                          ba-1970-9.3, ba-1970-25.1   \n",
       "9    reasoning  ba-1970-57.3, ba-1970-57.4, ba-1970-57.5, ba-1...   \n",
       "\n",
       "                                reference_generation  \n",
       "0  A bank incorporated in Singapore must have a m...  \n",
       "1  A foreign bank must have head office capital f...  \n",
       "2  For an individual who contravenes these provis...  \n",
       "3  In Singapore, any advertisement offering or in...  \n",
       "4  Yes, a bank whose licence has been revoked has...  \n",
       "5  When a bank’s losses reduce its capital funds ...  \n",
       "6  Under the regulations, only a licensed entity ...  \n",
       "7  The failure to timely publish audited financia...  \n",
       "8  The bank must not reduce its paid-up capital o...  \n",
       "9  Unauthorized advertising for credit card servi...  "
      ]
     },
     "execution_count": 5,
     "metadata": {},
     "output_type": "execute_result"
    }
   ],
   "source": [
    "df_queries = pd.read_csv('victoria_queries.csv')\n",
    "df_queries"
   ]
  },
  {
   "cell_type": "code",
   "execution_count": null,
   "id": "0dfb2743",
   "metadata": {},
   "outputs": [
    {
     "name": "stdout",
     "output_type": "stream",
     "text": [
      "Raw Data Source: ba\n",
      "Raw Classification: Factual\n",
      "VectorDB Chunks: ['ba-1970-9.1', 'ba-1970-9.2', 'ba-1970-9.3a', 'ba-1970-9.2a', 'ba-1970-55t.6', 'ba-1970-10.1', 'ba-1970-55t.2', 'ba-1970-55t.1', 'ba-1970-9a.3a', 'ba-1970-40.1']\n",
      "Retrieved chunks similarity score: [0.9999998807907104, 0.8203828930854797, 0.7704546451568604, 0.7668531537055969, 0.75835782289505, 0.7692022919654846, 0.7747294902801514, 0.8659762740135193, 0.7862464785575867, 0.7480430006980896]\n",
      "Position scores: [1.0]\n",
      "Max scores: [0.9999998807907104]\n",
      "Rank scores: [0.32727272727272727]\n"
     ]
    },
    {
     "name": "stderr",
     "output_type": "stream",
     "text": [
      "Reranking chunks: 100%|██████████| 10/10 [00:11<00:00,  1.14s/it]\n"
     ]
    },
    {
     "name": "stdout",
     "output_type": "stream",
     "text": [
      "Retrieved chunks similarity score: [0.9999998807907104, 0.7668531537055969, 0.8203828930854797, 0.7704546451568604, 0.7692022919654846]\n",
      "Position scores: [1.0]\n",
      "Max scores: [0.9999998807907104]\n",
      "Rank scores: [0.3]\n",
      "Raw Data Source: ba\n",
      "Raw Classification: Factual\n",
      "VectorDB Chunks: ['ba-1970-9.1', 'ba-1970-9.2', 'ba-1970-9.3a', 'ba-1970-9.2a', 'ba-1970-55t.6', 'ba-1970-10.1', 'ba-1970-55t.2', 'ba-1970-55t.1', 'ba-1970-9a.3a', 'ba-1970-40.1']\n",
      "Retrieved chunks similarity score: [0.9999998807907104, 0.8203828930854797, 0.7704546451568604, 0.7668531537055969, 0.75835782289505, 0.7692022919654846, 0.7747294902801514, 0.8659762740135193, 0.7862464785575867, 0.7480430006980896]\n",
      "Position scores: [1.0]\n",
      "Max scores: [0.9999998807907104]\n",
      "Rank scores: [0.32727272727272727]\n"
     ]
    },
    {
     "name": "stderr",
     "output_type": "stream",
     "text": [
      "Reranking chunks: 100%|██████████| 10/10 [00:06<00:00,  1.51it/s]\n"
     ]
    },
    {
     "name": "stdout",
     "output_type": "stream",
     "text": [
      "Retrieved chunks similarity score: [0.7668531537055969, 0.7692022919654846, 0.7704546451568604, 0.9999998807907104, 0.8203828930854797]\n",
      "Position scores: [0.4]\n",
      "Max scores: [0.9999998807907104]\n",
      "Rank scores: [0.95]\n",
      "Raw Data Source: ba\n",
      "Raw Classification: Factual\n",
      "VectorDB Chunks: ['ba-1970-9.1', 'ba-1970-9.2', 'ba-1970-9.3a', 'ba-1970-9.2a', 'ba-1970-55t.6', 'ba-1970-10.1', 'ba-1970-55t.2', 'ba-1970-55t.1', 'ba-1970-9a.3a', 'ba-1970-40.1']\n",
      "Retrieved chunks similarity score: [0.9999998807907104, 0.8203828930854797, 0.7704546451568604, 0.7668531537055969, 0.75835782289505, 0.7692022919654846, 0.7747294902801514, 0.8659762740135193, 0.7862464785575867, 0.7480430006980896]\n",
      "Position scores: [1.0]\n",
      "Max scores: [0.9999998807907104]\n",
      "Rank scores: [0.32727272727272727]\n"
     ]
    },
    {
     "name": "stderr",
     "output_type": "stream",
     "text": [
      "Reranking chunks: 100%|██████████| 10/10 [00:07<00:00,  1.35it/s]\n"
     ]
    },
    {
     "name": "stdout",
     "output_type": "stream",
     "text": [
      "Retrieved chunks similarity score: [0.7668531537055969, 0.7692022919654846, 0.7704546451568604, 0.9999998807907104, 0.8203828930854797]\n",
      "Position scores: [0.4]\n",
      "Max scores: [0.9999998807907104]\n",
      "Rank scores: [0.95]\n",
      "Raw Data Source: ba\n",
      "Raw Classification: Factual\n",
      "VectorDB Chunks: ['ba-1970-9.1', 'ba-1970-55t.1', 'ba-1970-12.3', 'ba-1970-9.3a', 'ba-1970-40.1', 'ba-1970-38.1', 'ba-1970-10.1', 'ba-1970-31.1a', 'ba-1970-10.2', 'ba-1970-9a.1']\n",
      "Retrieved chunks similarity score: [0.9999998807907104, 0.8659762740135193, 0.7440372109413147, 0.7704546451568604, 0.7480430006980896, 0.6859292984008789, 0.7692022919654846, 0.8021577596664429, 0.7345101833343506, 0.8171002864837646]\n",
      "Position scores: [1.0]\n",
      "Max scores: [0.9999998807907104]\n",
      "Rank scores: [0.3393939393939394]\n"
     ]
    },
    {
     "name": "stderr",
     "output_type": "stream",
     "text": [
      "Reranking chunks: 100%|██████████| 10/10 [00:06<00:00,  1.65it/s]\n"
     ]
    },
    {
     "name": "stdout",
     "output_type": "stream",
     "text": [
      "Retrieved chunks similarity score: [0.9999998807907104, 0.7692022919654846, 0.8021577596664429, 0.7345101833343506, 0.8171002864837646]\n",
      "Position scores: [1.0]\n",
      "Max scores: [0.9999998807907104]\n",
      "Rank scores: [0.35]\n",
      "Raw Data Source: ba\n",
      "Raw Classification: Factual\n",
      "VectorDB Chunks: ['ba-1970-9.1', 'ba-1970-55t.1', 'ba-1970-12.3', 'ba-1970-9.3a', 'ba-1970-40.1', 'ba-1970-38.1', 'ba-1970-10.1', 'ba-1970-31.1a', 'ba-1970-10.2', 'ba-1970-9a.1']\n",
      "Retrieved chunks similarity score: [0.9999998807907104, 0.8659762740135193, 0.7440372109413147, 0.7704546451568604, 0.7480430006980896, 0.6859292984008789, 0.7692022919654846, 0.8021577596664429, 0.7345101833343506, 0.8171002864837646]\n",
      "Position scores: [1.0]\n",
      "Max scores: [0.9999998807907104]\n",
      "Rank scores: [0.3393939393939394]\n"
     ]
    },
    {
     "name": "stderr",
     "output_type": "stream",
     "text": [
      "Reranking chunks: 100%|██████████| 10/10 [00:07<00:00,  1.36it/s]\n"
     ]
    },
    {
     "name": "stdout",
     "output_type": "stream",
     "text": [
      "Retrieved chunks similarity score: [0.9999998807907104, 0.7704546451568604, 0.7692022919654846, 0.8021577596664429, 0.7440372109413147]\n",
      "Position scores: [1.0]\n",
      "Max scores: [0.9999998807907104]\n",
      "Rank scores: [0.15]\n",
      "Raw Data Source: ba\n",
      "Raw Classification: Factual\n",
      "VectorDB Chunks: ['ba-1970-9.1', 'ba-1970-55t.1', 'ba-1970-12.3', 'ba-1970-9.3a', 'ba-1970-40.1', 'ba-1970-38.1', 'ba-1970-10.1', 'ba-1970-31.1a', 'ba-1970-10.2', 'ba-1970-9a.1']\n",
      "Retrieved chunks similarity score: [0.9999998807907104, 0.8659762740135193, 0.7440372109413147, 0.7704546451568604, 0.7480430006980896, 0.6859292984008789, 0.7692022919654846, 0.8021577596664429, 0.7345101833343506, 0.8171002864837646]\n",
      "Position scores: [1.0]\n",
      "Max scores: [0.9999998807907104]\n",
      "Rank scores: [0.3393939393939394]\n"
     ]
    },
    {
     "name": "stderr",
     "output_type": "stream",
     "text": [
      "Reranking chunks: 100%|██████████| 10/10 [00:11<00:00,  1.18s/it]\n"
     ]
    },
    {
     "name": "stdout",
     "output_type": "stream",
     "text": [
      "Retrieved chunks similarity score: [0.9999998807907104, 0.7704546451568604, 0.7692022919654846, 0.8021577596664429, 0.7440372109413147]\n",
      "Position scores: [1.0]\n",
      "Max scores: [0.9999998807907104]\n",
      "Rank scores: [0.15]\n",
      "Raw Data Source: ba\n",
      "Raw Classification: Factual\n",
      "VectorDB Chunks: ['ba-1970-53a.9', 'ba-1970-53a.8', 'ba-1970-19.3', 'ba-1970-29a.6', 'ba-1970-12.7', 'ba-1970-25.5', 'ba-1970-9.5a', 'ba-1970-26.8', 'ba-1970-39a.8', 'ba-1970-71']\n",
      "Retrieved chunks similarity score: [0.6360379457473755, 0.7495587468147278, 0.7880329489707947, 0.7216784954071045, 0.7694778442382812, 0.708010733127594, 0.7088097929954529, 0.7915149927139282, 0.6949601173400879, 0.697676956653595]\n",
      "Position scores: [0.0]\n",
      "Max scores: [0.7915149927139282]\n",
      "Rank scores: [0.44242424242424244]\n"
     ]
    },
    {
     "name": "stderr",
     "output_type": "stream",
     "text": [
      "Reranking chunks: 100%|██████████| 10/10 [00:04<00:00,  2.03it/s]\n"
     ]
    },
    {
     "name": "stdout",
     "output_type": "stream",
     "text": [
      "Retrieved chunks similarity score: [0.7495587468147278, 0.6949601173400879, 0.7216784954071045, 0.6360379457473755, 0.7915149927139282]\n",
      "Position scores: [0.0]\n",
      "Max scores: [0.7915149927139282]\n",
      "Rank scores: [0.55]\n",
      "Raw Data Source: ba\n",
      "Raw Classification: Factual\n",
      "VectorDB Chunks: ['ba-1970-53a.9', 'ba-1970-53a.8', 'ba-1970-19.3', 'ba-1970-29a.6', 'ba-1970-12.7', 'ba-1970-25.5', 'ba-1970-9.5a', 'ba-1970-26.8', 'ba-1970-39a.8', 'ba-1970-71']\n",
      "Retrieved chunks similarity score: [0.6360379457473755, 0.7495587468147278, 0.7880329489707947, 0.7216784954071045, 0.7694778442382812, 0.708010733127594, 0.7088097929954529, 0.7915149927139282, 0.6949601173400879, 0.697676956653595]\n",
      "Position scores: [0.0]\n",
      "Max scores: [0.7915149927139282]\n",
      "Rank scores: [0.44242424242424244]\n"
     ]
    },
    {
     "name": "stderr",
     "output_type": "stream",
     "text": [
      "Reranking chunks: 100%|██████████| 10/10 [00:05<00:00,  1.72it/s]\n"
     ]
    },
    {
     "name": "stdout",
     "output_type": "stream",
     "text": [
      "Retrieved chunks similarity score: [0.7216784954071045, 0.6949601173400879, 0.7495587468147278, 0.7694778442382812, 0.7088097929954529]\n",
      "Position scores: [0.0]\n",
      "Max scores: [0.7694778442382812]\n",
      "Rank scores: [0.6]\n",
      "Raw Data Source: ba\n",
      "Raw Classification: Factual\n",
      "VectorDB Chunks: ['ba-1970-53a.9', 'ba-1970-53a.8', 'ba-1970-19.3', 'ba-1970-29a.6', 'ba-1970-12.7', 'ba-1970-25.5', 'ba-1970-9.5a', 'ba-1970-26.8', 'ba-1970-39a.8', 'ba-1970-71']\n",
      "Retrieved chunks similarity score: [0.6360379457473755, 0.7495587468147278, 0.7880329489707947, 0.7216784954071045, 0.7694778442382812, 0.708010733127594, 0.7088097929954529, 0.7915149927139282, 0.6949601173400879, 0.697676956653595]\n",
      "Position scores: [0.0]\n",
      "Max scores: [0.7915149927139282]\n",
      "Rank scores: [0.44242424242424244]\n"
     ]
    },
    {
     "name": "stderr",
     "output_type": "stream",
     "text": [
      "Reranking chunks: 100%|██████████| 10/10 [00:05<00:00,  1.89it/s]\n"
     ]
    },
    {
     "name": "stdout",
     "output_type": "stream",
     "text": [
      "Retrieved chunks similarity score: [0.7216784954071045, 0.6949601173400879, 0.7495587468147278, 0.7694778442382812, 0.7088097929954529]\n",
      "Position scores: [0.0]\n",
      "Max scores: [0.7694778442382812]\n",
      "Rank scores: [0.6]\n",
      "Raw Data Source: ba\n",
      "Raw Classification: Factual\n",
      "VectorDB Chunks: ['ba-1970-57.3', 'ba-1970-57.2', 'ba-1970-57.1', 'ba-1970-57a.1', 'ba-1970-56', 'ba-1970-57.4', 'ba-1970-55u.1', 'ba-1970-4a.2', 'ba-1970-57eb.1', 'ba-1970-29.3']\n",
      "Retrieved chunks similarity score: [0.9257653951644897, 0.944344699382782, 1.0, 0.8453415632247925, 0.6562513709068298, 0.3507389724254608, 0.6262465119361877, 0.6328372359275818, 0.6587145328521729, 0.6097064018249512]\n",
      "Retrieved chunks similarity score: [0.9266220927238464, 1.0, 0.944344699382782, 0.8002603054046631, 0.6180703639984131, 0.3429679274559021, 0.6466114521026611, 0.6394248604774475, 0.6653096675872803, 0.6695326566696167]\n",
      "Retrieved chunks similarity score: [1.0000001192092896, 0.9266220927238464, 0.9257653951644897, 0.7861167788505554, 0.6566728949546814, 0.4267919659614563, 0.6369704008102417, 0.6721653938293457, 0.6367877721786499, 0.5966187119483948]\n",
      "Retrieved chunks similarity score: [0.4267919659614563, 0.3429679274559021, 0.3507389724254608, 0.42473557591438293, 0.5681703686714172, 0.9999999403953552, 0.4023159444332123, 0.35810086131095886, 0.4910770654678345, 0.20389486849308014]\n",
      "Retrieved chunks similarity score: [0.5350202918052673, 0.4684891402721405, 0.4584461450576782, 0.44004711508750916, 0.5694853663444519, 0.43780088424682617, 0.4648802876472473, 0.5537439584732056, 0.3589034080505371, 0.3369843363761902]\n",
      "Retrieved chunks similarity score: [0.6020056009292603, 0.5241296291351318, 0.5072958469390869, 0.5120460391044617, 0.49847882986068726, 0.5777889490127563, 0.6481840014457703, 0.6995407342910767, 0.5778405666351318, 0.3839530348777771]\n",
      "Retrieved chunks similarity score: [0.12315110117197037, 0.17905430495738983, 0.18320052325725555, 0.20667056739330292, 0.17841337621212006, 0.1479547768831253, 0.23022766411304474, 0.11747702956199646, 0.26912274956703186, 0.15741345286369324]\n",
      "Position scores: [0.8, 0.9, 1.0, 0.5, 0.0, 0.0, 0.0]\n",
      "Max scores: [1.0, 1.0, 1.0000001192092896, 0.9999999403953552, 0.5694853663444519, 0.6995407342910767, 0.26912274956703186]\n",
      "Rank scores: [0.13333333333333333, 0.21818181818181817, 0.08484848484848485, 0.4727272727272727, 0.2606060606060606, 0.5151515151515151, 0.5515151515151515]\n"
     ]
    },
    {
     "name": "stderr",
     "output_type": "stream",
     "text": [
      "Reranking chunks: 100%|██████████| 10/10 [00:04<00:00,  2.09it/s]\n"
     ]
    },
    {
     "name": "stdout",
     "output_type": "stream",
     "text": [
      "Retrieved chunks similarity score: [0.3507389724254608, 1.0, 0.944344699382782, 0.8453415632247925, 0.9257653951644897]\n",
      "Retrieved chunks similarity score: [0.3429679274559021, 0.944344699382782, 1.0, 0.8002603054046631, 0.9266220927238464]\n",
      "Retrieved chunks similarity score: [0.4267919659614563, 0.9257653951644897, 0.9266220927238464, 0.7861167788505554, 1.0000001192092896]\n",
      "Retrieved chunks similarity score: [0.9999999403953552, 0.3507389724254608, 0.3429679274559021, 0.42473557591438293, 0.4267919659614563]\n",
      "Retrieved chunks similarity score: [0.43780088424682617, 0.4584461450576782, 0.4684891402721405, 0.44004711508750916, 0.5350202918052673]\n",
      "Retrieved chunks similarity score: [0.5777889490127563, 0.5072958469390869, 0.5241296291351318, 0.5120460391044617, 0.6020056009292603]\n",
      "Retrieved chunks similarity score: [0.1479547768831253, 0.18320052325725555, 0.17905430495738983, 0.20667056739330292, 0.12315110117197037]\n",
      "Position scores: [0.8, 0.6, 0.2, 1.0, 0.0, 0.0, 0.0]\n",
      "Max scores: [1.0, 1.0, 1.0000001192092896, 0.9999999403953552, 0.5350202918052673, 0.6020056009292603, 0.20667056739330292]\n",
      "Rank scores: [0.55, 0.6, 0.85, 0.45, 0.85, 0.65, 0.45]\n",
      "Raw Data Source: ba\n",
      "Raw Classification: Factual\n",
      "VectorDB Chunks: ['ba-1970-57.3', 'ba-1970-57.2', 'ba-1970-57.1', 'ba-1970-57a.1', 'ba-1970-56', 'ba-1970-57.4', 'ba-1970-55u.1', 'ba-1970-4a.2', 'ba-1970-57eb.1', 'ba-1970-29.3']\n",
      "Retrieved chunks similarity score: [0.9257653951644897, 0.944344699382782, 1.0, 0.8453415632247925, 0.6562513709068298, 0.3507389724254608, 0.6262465119361877, 0.6328372359275818, 0.6587145328521729, 0.6097064018249512]\n",
      "Retrieved chunks similarity score: [0.9266220927238464, 1.0, 0.944344699382782, 0.8002603054046631, 0.6180703639984131, 0.3429679274559021, 0.6466114521026611, 0.6394248604774475, 0.6653096675872803, 0.6695326566696167]\n",
      "Retrieved chunks similarity score: [1.0000001192092896, 0.9266220927238464, 0.9257653951644897, 0.7861167788505554, 0.6566728949546814, 0.4267919659614563, 0.6369704008102417, 0.6721653938293457, 0.6367877721786499, 0.5966187119483948]\n",
      "Retrieved chunks similarity score: [0.4267919659614563, 0.3429679274559021, 0.3507389724254608, 0.42473557591438293, 0.5681703686714172, 0.9999999403953552, 0.4023159444332123, 0.35810086131095886, 0.4910770654678345, 0.20389486849308014]\n",
      "Retrieved chunks similarity score: [0.5350202918052673, 0.4684891402721405, 0.4584461450576782, 0.44004711508750916, 0.5694853663444519, 0.43780088424682617, 0.4648802876472473, 0.5537439584732056, 0.3589034080505371, 0.3369843363761902]\n",
      "Retrieved chunks similarity score: [0.6020056009292603, 0.5241296291351318, 0.5072958469390869, 0.5120460391044617, 0.49847882986068726, 0.5777889490127563, 0.6481840014457703, 0.6995407342910767, 0.5778405666351318, 0.3839530348777771]\n",
      "Retrieved chunks similarity score: [0.12315110117197037, 0.17905430495738983, 0.18320052325725555, 0.20667056739330292, 0.17841337621212006, 0.1479547768831253, 0.23022766411304474, 0.11747702956199646, 0.26912274956703186, 0.15741345286369324]\n",
      "Position scores: [0.8, 0.9, 1.0, 0.5, 0.0, 0.0, 0.0]\n",
      "Max scores: [1.0, 1.0, 1.0000001192092896, 0.9999999403953552, 0.5694853663444519, 0.6995407342910767, 0.26912274956703186]\n",
      "Rank scores: [0.13333333333333333, 0.21818181818181817, 0.08484848484848485, 0.4727272727272727, 0.2606060606060606, 0.5151515151515151, 0.5515151515151515]\n"
     ]
    },
    {
     "name": "stderr",
     "output_type": "stream",
     "text": [
      "Reranking chunks: 100%|██████████| 10/10 [00:10<00:00,  1.03s/it]\n"
     ]
    },
    {
     "name": "stdout",
     "output_type": "stream",
     "text": [
      "Retrieved chunks similarity score: [1.0, 0.944344699382782, 0.9257653951644897, 0.8453415632247925, 0.3507389724254608]\n",
      "Retrieved chunks similarity score: [0.944344699382782, 1.0, 0.9266220927238464, 0.8002603054046631, 0.3429679274559021]\n",
      "Retrieved chunks similarity score: [0.9257653951644897, 0.9266220927238464, 1.0000001192092896, 0.7861167788505554, 0.4267919659614563]\n",
      "Retrieved chunks similarity score: [0.3507389724254608, 0.3429679274559021, 0.4267919659614563, 0.42473557591438293, 0.9999999403953552]\n",
      "Retrieved chunks similarity score: [0.4584461450576782, 0.4684891402721405, 0.5350202918052673, 0.44004711508750916, 0.43780088424682617]\n",
      "Retrieved chunks similarity score: [0.5072958469390869, 0.5241296291351318, 0.6020056009292603, 0.5120460391044617, 0.5777889490127563]\n",
      "Retrieved chunks similarity score: [0.18320052325725555, 0.17905430495738983, 0.12315110117197037, 0.20667056739330292, 0.1479547768831253]\n",
      "Position scores: [1.0, 0.8, 0.6, 0.2, 0.0, 0.0, 0.0]\n",
      "Max scores: [1.0, 1.0, 1.0000001192092896, 0.9999999403953552, 0.5350202918052673, 0.6020056009292603, 0.20667056739330292]\n",
      "Rank scores: [0.0, 0.05, 0.2, 0.9, 0.2, 0.75, 0.4]\n",
      "Raw Data Source: ba\n",
      "Raw Classification: Factual\n",
      "VectorDB Chunks: ['ba-1970-57.3', 'ba-1970-57.2', 'ba-1970-57.1', 'ba-1970-57a.1', 'ba-1970-56', 'ba-1970-57.4', 'ba-1970-55u.1', 'ba-1970-4a.2', 'ba-1970-57eb.1', 'ba-1970-29.3']\n",
      "Retrieved chunks similarity score: [0.9257653951644897, 0.944344699382782, 1.0, 0.8453415632247925, 0.6562513709068298, 0.3507389724254608, 0.6262465119361877, 0.6328372359275818, 0.6587145328521729, 0.6097064018249512]\n",
      "Retrieved chunks similarity score: [0.9266220927238464, 1.0, 0.944344699382782, 0.8002603054046631, 0.6180703639984131, 0.3429679274559021, 0.6466114521026611, 0.6394248604774475, 0.6653096675872803, 0.6695326566696167]\n",
      "Retrieved chunks similarity score: [1.0000001192092896, 0.9266220927238464, 0.9257653951644897, 0.7861167788505554, 0.6566728949546814, 0.4267919659614563, 0.6369704008102417, 0.6721653938293457, 0.6367877721786499, 0.5966187119483948]\n",
      "Retrieved chunks similarity score: [0.4267919659614563, 0.3429679274559021, 0.3507389724254608, 0.42473557591438293, 0.5681703686714172, 0.9999999403953552, 0.4023159444332123, 0.35810086131095886, 0.4910770654678345, 0.20389486849308014]\n",
      "Retrieved chunks similarity score: [0.5350202918052673, 0.4684891402721405, 0.4584461450576782, 0.44004711508750916, 0.5694853663444519, 0.43780088424682617, 0.4648802876472473, 0.5537439584732056, 0.3589034080505371, 0.3369843363761902]\n",
      "Retrieved chunks similarity score: [0.6020056009292603, 0.5241296291351318, 0.5072958469390869, 0.5120460391044617, 0.49847882986068726, 0.5777889490127563, 0.6481840014457703, 0.6995407342910767, 0.5778405666351318, 0.3839530348777771]\n",
      "Retrieved chunks similarity score: [0.12315110117197037, 0.17905430495738983, 0.18320052325725555, 0.20667056739330292, 0.17841337621212006, 0.1479547768831253, 0.23022766411304474, 0.11747702956199646, 0.26912274956703186, 0.15741345286369324]\n",
      "Position scores: [0.8, 0.9, 1.0, 0.5, 0.0, 0.0, 0.0]\n",
      "Max scores: [1.0, 1.0, 1.0000001192092896, 0.9999999403953552, 0.5694853663444519, 0.6995407342910767, 0.26912274956703186]\n",
      "Rank scores: [0.13333333333333333, 0.21818181818181817, 0.08484848484848485, 0.4727272727272727, 0.2606060606060606, 0.5151515151515151, 0.5515151515151515]\n"
     ]
    },
    {
     "name": "stderr",
     "output_type": "stream",
     "text": [
      "Reranking chunks: 100%|██████████| 10/10 [00:05<00:00,  1.75it/s]\n"
     ]
    },
    {
     "name": "stdout",
     "output_type": "stream",
     "text": [
      "Retrieved chunks similarity score: [1.0, 0.944344699382782, 0.9257653951644897, 0.8453415632247925, 0.3507389724254608]\n",
      "Retrieved chunks similarity score: [0.944344699382782, 1.0, 0.9266220927238464, 0.8002603054046631, 0.3429679274559021]\n",
      "Retrieved chunks similarity score: [0.9257653951644897, 0.9266220927238464, 1.0000001192092896, 0.7861167788505554, 0.4267919659614563]\n",
      "Retrieved chunks similarity score: [0.3507389724254608, 0.3429679274559021, 0.4267919659614563, 0.42473557591438293, 0.9999999403953552]\n",
      "Retrieved chunks similarity score: [0.4584461450576782, 0.4684891402721405, 0.5350202918052673, 0.44004711508750916, 0.43780088424682617]\n",
      "Retrieved chunks similarity score: [0.5072958469390869, 0.5241296291351318, 0.6020056009292603, 0.5120460391044617, 0.5777889490127563]\n",
      "Retrieved chunks similarity score: [0.18320052325725555, 0.17905430495738983, 0.12315110117197037, 0.20667056739330292, 0.1479547768831253]\n",
      "Position scores: [1.0, 0.8, 0.6, 0.2, 0.0, 0.0, 0.0]\n",
      "Max scores: [1.0, 1.0, 1.0000001192092896, 0.9999999403953552, 0.5350202918052673, 0.6020056009292603, 0.20667056739330292]\n",
      "Rank scores: [0.0, 0.05, 0.2, 0.9, 0.2, 0.75, 0.4]\n",
      "Raw Data Source: ba\n",
      "Raw Classification: Factual\n",
      "VectorDB Chunks: ['ba-1970-11a', 'ba-1970-20.4', 'ba-1970-55za.6', 'ba-1970-55za.5', 'ba-1970-55za.2', 'ba-1970-20.7', 'ba-1970-7.5', 'ba-1970-20.2', 'ba-1970-20.3', 'ba-1970-20.1']\n",
      "Retrieved chunks similarity score: [0.6964688897132874, 1.0000001192092896, 0.6987694501876831, 0.7007160782814026, 0.7169982194900513, 0.5953507423400879, 0.7303391098976135, 0.7817621827125549, 0.8143907785415649, 0.683028519153595]\n",
      "Position scores: [0.9]\n",
      "Max scores: [1.0000001192092896]\n",
      "Rank scores: [0.5151515151515151]\n"
     ]
    },
    {
     "name": "stderr",
     "output_type": "stream",
     "text": [
      "Reranking chunks: 100%|██████████| 10/10 [00:05<00:00,  1.73it/s]\n"
     ]
    },
    {
     "name": "stdout",
     "output_type": "stream",
     "text": [
      "Retrieved chunks similarity score: [0.6987694501876831, 0.5953507423400879, 0.7817621827125549, 1.0000001192092896, 0.7303391098976135]\n",
      "Position scores: [0.4]\n",
      "Max scores: [1.0000001192092896]\n",
      "Rank scores: [0.8]\n",
      "Raw Data Source: ba\n",
      "Raw Classification: Factual\n",
      "VectorDB Chunks: ['ba-1970-11a', 'ba-1970-20.4', 'ba-1970-55za.6', 'ba-1970-55za.5', 'ba-1970-55za.2', 'ba-1970-20.7', 'ba-1970-7.5', 'ba-1970-20.2', 'ba-1970-20.3', 'ba-1970-20.1']\n",
      "Retrieved chunks similarity score: [0.6964688897132874, 1.0000001192092896, 0.6987694501876831, 0.7007160782814026, 0.7169982194900513, 0.5953507423400879, 0.7303391098976135, 0.7817621827125549, 0.8143907785415649, 0.683028519153595]\n",
      "Position scores: [0.9]\n",
      "Max scores: [1.0000001192092896]\n",
      "Rank scores: [0.5151515151515151]\n"
     ]
    },
    {
     "name": "stderr",
     "output_type": "stream",
     "text": [
      "Reranking chunks: 100%|██████████| 10/10 [00:06<00:00,  1.54it/s]\n"
     ]
    },
    {
     "name": "stdout",
     "output_type": "stream",
     "text": [
      "Retrieved chunks similarity score: [0.7817621827125549, 1.0000001192092896, 0.5953507423400879, 0.7007160782814026, 0.7303391098976135]\n",
      "Position scores: [0.8]\n",
      "Max scores: [1.0000001192092896]\n",
      "Rank scores: [0.25]\n",
      "Raw Data Source: ba\n",
      "Raw Classification: Factual\n",
      "VectorDB Chunks: ['ba-1970-11a', 'ba-1970-20.4', 'ba-1970-55za.6', 'ba-1970-55za.5', 'ba-1970-55za.2', 'ba-1970-20.7', 'ba-1970-7.5', 'ba-1970-20.2', 'ba-1970-20.3', 'ba-1970-20.1']\n",
      "Retrieved chunks similarity score: [0.6964688897132874, 1.0000001192092896, 0.6987694501876831, 0.7007160782814026, 0.7169982194900513, 0.5953507423400879, 0.7303391098976135, 0.7817621827125549, 0.8143907785415649, 0.683028519153595]\n",
      "Position scores: [0.9]\n",
      "Max scores: [1.0000001192092896]\n",
      "Rank scores: [0.5151515151515151]\n"
     ]
    },
    {
     "name": "stderr",
     "output_type": "stream",
     "text": [
      "Reranking chunks: 100%|██████████| 10/10 [00:06<00:00,  1.49it/s]\n"
     ]
    },
    {
     "name": "stdout",
     "output_type": "stream",
     "text": [
      "Retrieved chunks similarity score: [0.7817621827125549, 1.0000001192092896, 0.5953507423400879, 0.7007160782814026, 0.7303391098976135]\n",
      "Position scores: [0.8]\n",
      "Max scores: [1.0000001192092896]\n",
      "Rank scores: [0.25]\n",
      "Raw Data Source: ba\n",
      "Raw Classification: The question is classified as 'Reasoning'. It requires inference and analysis of the relationships between the bank's financial situation, capital adequacy management strategies, and the auditor's responsibilities.\n",
      "VectorDB Chunks: ['ba-1970-58.8', 'ba-1970-10.2a', 'ba-1970-9a.3', 'ba-1970-10.3', 'ba-1970-48aa.1', 'ba-1970-48aa.2', 'ba-1970-39a.5', 'ba-1970-10.2', 'ba-1970-58.1', 'ba-1970-46b.4']\n",
      "Retrieved chunks similarity score: [0.5648605227470398, 0.503929615020752, 0.6651657223701477, 0.7024672627449036, 0.5496634840965271, 0.5882453322410583, 0.45479586720466614, 0.6955890655517578, 0.424751877784729, 0.5163326859474182]\n",
      "Retrieved chunks similarity score: [1.0, 0.5552387833595276, 0.4099576473236084, 0.6795032620429993, 0.6823636889457703, 0.6523496508598328, 0.3613164722919464, 0.5997809171676636, 0.6227365136146545, 0.7509393095970154]\n",
      "Position scores: [0.0, 1.0]\n",
      "Max scores: [0.7024672627449036, 1.0]\n",
      "Rank scores: [0.3515151515151515, 0.48484848484848486]\n"
     ]
    },
    {
     "name": "stderr",
     "output_type": "stream",
     "text": [
      "Reranking chunks: 100%|██████████| 10/10 [00:05<00:00,  1.89it/s]\n"
     ]
    },
    {
     "name": "stdout",
     "output_type": "stream",
     "text": [
      "Retrieved chunks similarity score: [0.5648605227470398, 0.424751877784729, 0.6955890655517578, 0.7024672627449036, 0.5163326859474182]\n",
      "Retrieved chunks similarity score: [1.0, 0.6227365136146545, 0.5997809171676636, 0.6795032620429993, 0.7509393095970154]\n",
      "Position scores: [0.0, 1.0]\n",
      "Max scores: [0.7024672627449036, 1.0]\n",
      "Rank scores: [0.6, 0.45]\n",
      "Raw Data Source: ba\n",
      "Raw Classification: The question is classified as 'Reasoning' because it requires an analysis of the relationship between the bank's significant losses, capital adequacy management, and the auditor's responsibilities, which involves drawing conclusions and applying logical steps rather than just retrieving facts.\n",
      "VectorDB Chunks: ['ba-1970-58.8', 'ba-1970-10.2a', 'ba-1970-9a.3', 'ba-1970-10.3', 'ba-1970-48aa.1', 'ba-1970-48aa.2', 'ba-1970-39a.5', 'ba-1970-10.2', 'ba-1970-58.1', 'ba-1970-46b.4']\n",
      "Retrieved chunks similarity score: [0.5648605227470398, 0.503929615020752, 0.6651657223701477, 0.7024672627449036, 0.5496634840965271, 0.5882453322410583, 0.45479586720466614, 0.6955890655517578, 0.424751877784729, 0.5163326859474182]\n",
      "Retrieved chunks similarity score: [1.0, 0.5552387833595276, 0.4099576473236084, 0.6795032620429993, 0.6823636889457703, 0.6523496508598328, 0.3613164722919464, 0.5997809171676636, 0.6227365136146545, 0.7509393095970154]\n",
      "Position scores: [0.0, 1.0]\n",
      "Max scores: [0.7024672627449036, 1.0]\n",
      "Rank scores: [0.3515151515151515, 0.48484848484848486]\n"
     ]
    },
    {
     "name": "stderr",
     "output_type": "stream",
     "text": [
      "Reranking chunks: 100%|██████████| 10/10 [00:06<00:00,  1.60it/s]\n"
     ]
    },
    {
     "name": "stdout",
     "output_type": "stream",
     "text": [
      "Retrieved chunks similarity score: [0.5648605227470398, 0.5163326859474182, 0.424751877784729, 0.6955890655517578, 0.7024672627449036]\n",
      "Retrieved chunks similarity score: [1.0, 0.7509393095970154, 0.6227365136146545, 0.5997809171676636, 0.6795032620429993]\n",
      "Position scores: [0.0, 1.0]\n",
      "Max scores: [0.7024672627449036, 1.0]\n",
      "Rank scores: [0.8, 0.15]\n",
      "Raw Data Source: ba\n",
      "Raw Classification: The question is classified as 'Reasoning'. It requires inference and analysis of the relationships between capital management, capital adequacy regulations, and the auditor's responsibilities in the context of the bank's significant losses.\n",
      "VectorDB Chunks: ['ba-1970-58.8', 'ba-1970-10.2a', 'ba-1970-9a.3', 'ba-1970-10.3', 'ba-1970-48aa.1', 'ba-1970-48aa.2', 'ba-1970-39a.5', 'ba-1970-10.2', 'ba-1970-58.1', 'ba-1970-46b.4']\n",
      "Retrieved chunks similarity score: [0.5648605227470398, 0.503929615020752, 0.6651657223701477, 0.7024672627449036, 0.5496634840965271, 0.5882453322410583, 0.45479586720466614, 0.6955890655517578, 0.424751877784729, 0.5163326859474182]\n",
      "Retrieved chunks similarity score: [1.0, 0.5552387833595276, 0.4099576473236084, 0.6795032620429993, 0.6823636889457703, 0.6523496508598328, 0.3613164722919464, 0.5997809171676636, 0.6227365136146545, 0.7509393095970154]\n",
      "Position scores: [0.0, 1.0]\n",
      "Max scores: [0.7024672627449036, 1.0]\n",
      "Rank scores: [0.3515151515151515, 0.48484848484848486]\n"
     ]
    },
    {
     "name": "stderr",
     "output_type": "stream",
     "text": [
      "Reranking chunks: 100%|██████████| 10/10 [00:06<00:00,  1.53it/s]\n"
     ]
    },
    {
     "name": "stdout",
     "output_type": "stream",
     "text": [
      "Retrieved chunks similarity score: [0.5648605227470398, 0.5163326859474182, 0.424751877784729, 0.6955890655517578, 0.7024672627449036]\n",
      "Retrieved chunks similarity score: [1.0, 0.7509393095970154, 0.6227365136146545, 0.5997809171676636, 0.6795032620429993]\n",
      "Position scores: [0.0, 1.0]\n",
      "Max scores: [0.7024672627449036, 1.0]\n",
      "Rank scores: [0.8, 0.15]\n",
      "Raw Data Source: ba\n",
      "Raw Classification: The question is classified as 'Reasoning'. It requires inference about how the Authority might address the situation and the broader implications for the bank, rather than seeking a straightforward factual answer.\n",
      "VectorDB Chunks: ['ba-1970-57.3', 'ba-1970-29a.4', 'ba-1970-5a.2', 'ba-1970-57.1', 'ba-1970-5.2b', 'ba-1970-57a.1', 'ba-1970-5.1', 'ba-1970-56', 'ba-1970-57.2', 'ba-1970-47a.4']\n",
      "Retrieved chunks similarity score: [0.9257653951644897, 0.6209722757339478, 0.6025153994560242, 1.0, 0.4976455867290497, 0.8453415632247925, 0.5088929533958435, 0.6562513709068298, 0.944344699382782, 0.5586485862731934]\n",
      "Retrieved chunks similarity score: [0.9266220927238464, 0.6828244924545288, 0.616430401802063, 0.944344699382782, 0.5283324122428894, 0.8002603054046631, 0.48966214060783386, 0.6180703639984131, 1.0, 0.5620046854019165]\n",
      "Retrieved chunks similarity score: [1.0000001192092896, 0.6217442750930786, 0.5761186480522156, 0.9257653951644897, 0.47180256247520447, 0.7861167788505554, 0.45543551445007324, 0.6566728949546814, 0.9266220927238464, 0.5088993906974792]\n",
      "Retrieved chunks similarity score: [0.06654896587133408, 0.3320867717266083, 0.24640905857086182, 0.08238939940929413, 0.4102723002433777, 0.07531914860010147, 0.27275416254997253, 0.08431846648454666, 0.12851502001285553, 0.30304089188575745]\n",
      "Position scores: [0.7, 0.2, 1.0, 0.0]\n",
      "Max scores: [1.0, 1.0, 1.0000001192092896, 0.4102723002433777]\n",
      "Rank scores: [0.42424242424242425, 0.40606060606060607, 0.37575757575757573, 0.5878787878787879]\n"
     ]
    },
    {
     "name": "stderr",
     "output_type": "stream",
     "text": [
      "Reranking chunks: 100%|██████████| 10/10 [00:05<00:00,  1.83it/s]\n"
     ]
    },
    {
     "name": "stdout",
     "output_type": "stream",
     "text": [
      "Retrieved chunks similarity score: [0.4976455867290497, 0.9257653951644897, 0.6209722757339478, 0.5586485862731934, 0.5088929533958435]\n",
      "Retrieved chunks similarity score: [0.5283324122428894, 0.9266220927238464, 0.6828244924545288, 0.5620046854019165, 0.48966214060783386]\n",
      "Retrieved chunks similarity score: [0.47180256247520447, 1.0000001192092896, 0.6217442750930786, 0.5088993906974792, 0.45543551445007324]\n",
      "Retrieved chunks similarity score: [0.4102723002433777, 0.06654896587133408, 0.3320867717266083, 0.30304089188575745, 0.27275416254997253]\n",
      "Position scores: [0.0, 0.0, 0.8, 0.0]\n",
      "Max scores: [0.9257653951644897, 0.9266220927238464, 1.0000001192092896, 0.4102723002433777]\n",
      "Rank scores: [0.5, 0.3, 0.3, 0.3]\n",
      "Raw Data Source: ba\n",
      "Raw Classification: The question is classified as 'Reasoning' because it requires inference and analysis of potential regulatory actions by the Authority and the broader implications on the bank. It involves evaluating the situation and making logical deductions rather than simply retrieving factual information.\n",
      "VectorDB Chunks: ['ba-1970-57.3', 'ba-1970-29a.4', 'ba-1970-5a.2', 'ba-1970-57.1', 'ba-1970-5.2b', 'ba-1970-57a.1', 'ba-1970-5.1', 'ba-1970-56', 'ba-1970-57.2', 'ba-1970-47a.4']\n",
      "Retrieved chunks similarity score: [0.9257653951644897, 0.6209722757339478, 0.6025153994560242, 1.0, 0.4976455867290497, 0.8453415632247925, 0.5088929533958435, 0.6562513709068298, 0.944344699382782, 0.5586485862731934]\n",
      "Retrieved chunks similarity score: [0.9266220927238464, 0.6828244924545288, 0.616430401802063, 0.944344699382782, 0.5283324122428894, 0.8002603054046631, 0.48966214060783386, 0.6180703639984131, 1.0, 0.5620046854019165]\n",
      "Retrieved chunks similarity score: [1.0000001192092896, 0.6217442750930786, 0.5761186480522156, 0.9257653951644897, 0.47180256247520447, 0.7861167788505554, 0.45543551445007324, 0.6566728949546814, 0.9266220927238464, 0.5088993906974792]\n",
      "Retrieved chunks similarity score: [0.06654896587133408, 0.3320867717266083, 0.24640905857086182, 0.08238939940929413, 0.4102723002433777, 0.07531914860010147, 0.27275416254997253, 0.08431846648454666, 0.12851502001285553, 0.30304089188575745]\n",
      "Position scores: [0.7, 0.2, 1.0, 0.0]\n",
      "Max scores: [1.0, 1.0, 1.0000001192092896, 0.4102723002433777]\n",
      "Rank scores: [0.42424242424242425, 0.40606060606060607, 0.37575757575757573, 0.5878787878787879]\n"
     ]
    },
    {
     "name": "stderr",
     "output_type": "stream",
     "text": [
      "Reranking chunks: 100%|██████████| 10/10 [00:05<00:00,  1.71it/s]\n"
     ]
    },
    {
     "name": "stdout",
     "output_type": "stream",
     "text": [
      "Retrieved chunks similarity score: [1.0, 0.9257653951644897, 0.944344699382782, 0.6562513709068298, 0.6209722757339478]\n",
      "Retrieved chunks similarity score: [0.944344699382782, 0.9266220927238464, 1.0, 0.6180703639984131, 0.6828244924545288]\n",
      "Retrieved chunks similarity score: [0.9257653951644897, 1.0000001192092896, 0.9266220927238464, 0.6566728949546814, 0.6217442750930786]\n",
      "Retrieved chunks similarity score: [0.08238939940929413, 0.06654896587133408, 0.12851502001285553, 0.08431846648454666, 0.3320867717266083]\n",
      "Position scores: [1.0, 0.6, 0.8, 0.0]\n",
      "Max scores: [1.0, 1.0, 1.0000001192092896, 0.3320867717266083]\n",
      "Rank scores: [0.05, 0.2, 0.15, 0.9]\n",
      "Raw Data Source: ba\n",
      "Raw Classification: The question is classified as 'Reasoning.' It requires analyzing the implications of the bank's actions and potential regulatory responses, as well as considering the broader impact on the bank, which involves inferential thinking.\n",
      "VectorDB Chunks: ['ba-1970-57.3', 'ba-1970-29a.4', 'ba-1970-5a.2', 'ba-1970-57.1', 'ba-1970-5.2b', 'ba-1970-57a.1', 'ba-1970-56', 'ba-1970-5.1', 'ba-1970-57.2', 'ba-1970-47a.4']\n",
      "Retrieved chunks similarity score: [0.9257653951644897, 0.6209722757339478, 0.6025153994560242, 1.0, 0.4976455867290497, 0.8453415632247925, 0.6562513709068298, 0.5088929533958435, 0.944344699382782, 0.5586485862731934]\n",
      "Retrieved chunks similarity score: [0.9266220927238464, 0.6828244924545288, 0.616430401802063, 0.944344699382782, 0.5283324122428894, 0.8002603054046631, 0.6180703639984131, 0.48966214060783386, 1.0, 0.5620046854019165]\n",
      "Retrieved chunks similarity score: [1.0000001192092896, 0.6217442750930786, 0.5761186480522156, 0.9257653951644897, 0.47180256247520447, 0.7861167788505554, 0.6566728949546814, 0.45543551445007324, 0.9266220927238464, 0.5088993906974792]\n",
      "Retrieved chunks similarity score: [0.06654896587133408, 0.3320867717266083, 0.24640905857086182, 0.08238939940929413, 0.4102723002433777, 0.07531914860010147, 0.08431846648454666, 0.27275416254997253, 0.12851502001285553, 0.30304089188575745]\n",
      "Position scores: [0.7, 0.2, 1.0, 0.0]\n",
      "Max scores: [1.0, 1.0, 1.0000001192092896, 0.4102723002433777]\n",
      "Rank scores: [0.4, 0.38181818181818183, 0.34545454545454546, 0.6060606060606061]\n"
     ]
    },
    {
     "name": "stderr",
     "output_type": "stream",
     "text": [
      "Reranking chunks: 100%|██████████| 10/10 [00:06<00:00,  1.58it/s]\n"
     ]
    },
    {
     "name": "stdout",
     "output_type": "stream",
     "text": [
      "Retrieved chunks similarity score: [1.0, 0.9257653951644897, 0.944344699382782, 0.6562513709068298, 0.6209722757339478]\n",
      "Retrieved chunks similarity score: [0.944344699382782, 0.9266220927238464, 1.0, 0.6180703639984131, 0.6828244924545288]\n",
      "Retrieved chunks similarity score: [0.9257653951644897, 1.0000001192092896, 0.9266220927238464, 0.6566728949546814, 0.6217442750930786]\n",
      "Retrieved chunks similarity score: [0.08238939940929413, 0.06654896587133408, 0.12851502001285553, 0.08431846648454666, 0.3320867717266083]\n",
      "Position scores: [1.0, 0.6, 0.8, 0.0]\n",
      "Max scores: [1.0, 1.0, 1.0000001192092896, 0.3320867717266083]\n",
      "Rank scores: [0.05, 0.2, 0.15, 0.9]\n",
      "Raw Data Source: ba\n",
      "Raw Classification: The question is classified as 'Reasoning'. It requires inference and deduction to analyze the implications of the bank's actions and how they relate to regulatory consequences.\n",
      "VectorDB Chunks: ['ba-1970-58.8', 'ba-1970-48.1', 'ba-1970-38.6e', 'ba-1970-49.1', 'ba-1970-48aa.2', 'ba-1970-39a.6', 'ba-1970-9.4', 'ba-1970-9a.5', 'ba-1970-9.5a', 'ba-1970-10.5']\n",
      "Retrieved chunks similarity score: [0.5268644094467163, 0.5057857036590576, 0.5076613426208496, 0.4692282974720001, 0.48199963569641113, 0.5213866829872131, 0.6309671998023987, 0.5712306499481201, 0.46957793831825256, 0.5045673847198486]\n",
      "Retrieved chunks similarity score: [0.2974216341972351, 0.4188958406448364, 0.39746519923210144, 0.42581290006637573, 0.2859366834163666, 0.3653934895992279, 0.3860553503036499, 0.32835015654563904, 0.3553585112094879, 0.3984113335609436]\n",
      "Position scores: [0.0, 0.0]\n",
      "Max scores: [0.6309671998023987, 0.42581290006637573]\n",
      "Rank scores: [0.4666666666666667, 0.4727272727272727]\n"
     ]
    },
    {
     "name": "stderr",
     "output_type": "stream",
     "text": [
      "Reranking chunks: 100%|██████████| 10/10 [00:05<00:00,  1.86it/s]\n"
     ]
    },
    {
     "name": "stdout",
     "output_type": "stream",
     "text": [
      "Retrieved chunks similarity score: [0.5045673847198486, 0.5712306499481201, 0.5076613426208496, 0.6309671998023987, 0.5213866829872131]\n",
      "Retrieved chunks similarity score: [0.3984113335609436, 0.32835015654563904, 0.39746519923210144, 0.3860553503036499, 0.3653934895992279]\n",
      "Position scores: [0.0, 0.0]\n",
      "Max scores: [0.6309671998023987, 0.3984113335609436]\n",
      "Rank scores: [0.75, 0.3]\n",
      "Raw Data Source: ba\n",
      "Raw Classification: Reasoning\n",
      "VectorDB Chunks: ['ba-1970-58.8', 'ba-1970-48.1', 'ba-1970-38.6e', 'ba-1970-49.1', 'ba-1970-48aa.2', 'ba-1970-39a.6', 'ba-1970-9.4', 'ba-1970-9a.5', 'ba-1970-9.5a', 'ba-1970-10.5']\n",
      "Retrieved chunks similarity score: [0.5268644094467163, 0.5057857036590576, 0.5076613426208496, 0.4692282974720001, 0.48199963569641113, 0.5213866829872131, 0.6309671998023987, 0.5712306499481201, 0.46957793831825256, 0.5045673847198486]\n",
      "Retrieved chunks similarity score: [0.2974216341972351, 0.4188958406448364, 0.39746519923210144, 0.42581290006637573, 0.2859366834163666, 0.3653934895992279, 0.3860553503036499, 0.32835015654563904, 0.3553585112094879, 0.3984113335609436]\n",
      "Position scores: [0.0, 0.0]\n",
      "Max scores: [0.6309671998023987, 0.42581290006637573]\n",
      "Rank scores: [0.4666666666666667, 0.4727272727272727]\n"
     ]
    },
    {
     "name": "stderr",
     "output_type": "stream",
     "text": [
      "Reranking chunks: 100%|██████████| 10/10 [00:05<00:00,  1.69it/s]\n"
     ]
    },
    {
     "name": "stdout",
     "output_type": "stream",
     "text": [
      "Retrieved chunks similarity score: [0.5213866829872131, 0.5712306499481201, 0.4692282974720001, 0.5076613426208496, 0.5045673847198486]\n",
      "Retrieved chunks similarity score: [0.3653934895992279, 0.32835015654563904, 0.42581290006637573, 0.39746519923210144, 0.3984113335609436]\n",
      "Position scores: [0.0, 0.0]\n",
      "Max scores: [0.5712306499481201, 0.42581290006637573]\n",
      "Rank scores: [0.2, 0.8]\n",
      "Raw Data Source: ba\n",
      "Raw Classification: The question is classified as 'Reasoning'. It requires inference and analysis of the relationships between the delayed financial statements and the capital maintenance requirements to determine the regulatory consequences.\n",
      "VectorDB Chunks: ['ba-1970-58.8', 'ba-1970-48.1', 'ba-1970-38.6e', 'ba-1970-49.1', 'ba-1970-48aa.2', 'ba-1970-39a.6', 'ba-1970-9.4', 'ba-1970-9a.5', 'ba-1970-9.5a', 'ba-1970-10.5']\n",
      "Retrieved chunks similarity score: [0.5268644094467163, 0.5057857036590576, 0.5076613426208496, 0.4692282974720001, 0.48199963569641113, 0.5213866829872131, 0.6309671998023987, 0.5712306499481201, 0.46957793831825256, 0.5045673847198486]\n",
      "Retrieved chunks similarity score: [0.2974216341972351, 0.4188958406448364, 0.39746519923210144, 0.42581290006637573, 0.2859366834163666, 0.3653934895992279, 0.3860553503036499, 0.32835015654563904, 0.3553585112094879, 0.3984113335609436]\n",
      "Position scores: [0.0, 0.0]\n",
      "Max scores: [0.6309671998023987, 0.42581290006637573]\n",
      "Rank scores: [0.4666666666666667, 0.4727272727272727]\n"
     ]
    },
    {
     "name": "stderr",
     "output_type": "stream",
     "text": [
      "Reranking chunks: 100%|██████████| 10/10 [00:06<00:00,  1.49it/s]\n"
     ]
    },
    {
     "name": "stdout",
     "output_type": "stream",
     "text": [
      "Retrieved chunks similarity score: [0.5213866829872131, 0.5712306499481201, 0.4692282974720001, 0.5076613426208496, 0.5045673847198486]\n",
      "Retrieved chunks similarity score: [0.3653934895992279, 0.32835015654563904, 0.42581290006637573, 0.39746519923210144, 0.3984113335609436]\n",
      "Position scores: [0.0, 0.0]\n",
      "Max scores: [0.5712306499481201, 0.42581290006637573]\n",
      "Rank scores: [0.2, 0.8]\n",
      "Raw Data Source: ba\n",
      "Raw Classification: The question is classified as 'Reasoning'. It requires inference about the regulatory requirements that must be met based on the bank's plans to repurchase shares and update its board of directors, which involves understanding relationships and applying logical steps related to financial regulations.\n",
      "VectorDB Chunks: ['ba-1970-9a.2', 'ba-1970-9.3', 'ba-1970-10.2a', 'ba-1970-55t.4', 'ba-1970-16.3', 'ba-1970-9a.3b', 'ba-1970-10a.3', 'ba-1970-9a.3', 'ba-1970-55y.3', 'ba-1970-65.2']\n",
      "Retrieved chunks similarity score: [0.7386410236358643, 1.000000238418579, 0.4182462990283966, 0.8395041227340698, 0.7424059510231018, 0.5256891250610352, 0.6454722285270691, 0.5461552143096924, 0.4420489966869354, 0.41788288950920105]\n",
      "Retrieved chunks similarity score: [0.4366194009780884, 0.6134555339813232, 0.48207101225852966, 0.5816356539726257, 0.62535560131073, 0.3835964500904083, 0.6356039643287659, 0.39801573753356934, 0.3280740976333618, 0.5404318571090698]\n",
      "Position scores: [0.9, 0.0]\n",
      "Max scores: [1.000000238418579, 0.6356039643287659]\n",
      "Rank scores: [0.19393939393939394, 0.38181818181818183]\n"
     ]
    },
    {
     "name": "stderr",
     "output_type": "stream",
     "text": [
      "Reranking chunks: 100%|██████████| 10/10 [00:06<00:00,  1.47it/s]\n"
     ]
    },
    {
     "name": "stdout",
     "output_type": "stream",
     "text": [
      "Retrieved chunks similarity score: [0.7386410236358643, 1.000000238418579, 0.41788288950920105, 0.8395041227340698, 0.5256891250610352]\n",
      "Retrieved chunks similarity score: [0.4366194009780884, 0.6134555339813232, 0.5404318571090698, 0.5816356539726257, 0.3835964500904083]\n",
      "Position scores: [0.8, 0.0]\n",
      "Max scores: [1.000000238418579, 0.6134555339813232]\n",
      "Rank scores: [0.35, 0.35]\n",
      "Raw Data Source: ba\n",
      "Raw Classification: The question is classified as 'Factual'. It asks for specific regulatory requirements that the bank must fulfill, which can be answered with retrieved information about regulations regarding share repurchase and changes in the board of directors.\n",
      "VectorDB Chunks: ['ba-1970-9a.2', 'ba-1970-9.3', 'ba-1970-10.2a', 'ba-1970-55t.4', 'ba-1970-16.3', 'ba-1970-9a.3b', 'ba-1970-10a.3', 'ba-1970-9a.3', 'ba-1970-55y.3', 'ba-1970-65.2']\n",
      "Retrieved chunks similarity score: [0.7386410236358643, 1.000000238418579, 0.4182462990283966, 0.8395041227340698, 0.7424059510231018, 0.5256891250610352, 0.6454722285270691, 0.5461552143096924, 0.4420489966869354, 0.41788288950920105]\n",
      "Retrieved chunks similarity score: [0.4366194009780884, 0.6134555339813232, 0.48207101225852966, 0.5816356539726257, 0.62535560131073, 0.3835964500904083, 0.6356039643287659, 0.39801573753356934, 0.3280740976333618, 0.5404318571090698]\n",
      "Position scores: [0.9, 0.0]\n",
      "Max scores: [1.000000238418579, 0.6356039643287659]\n",
      "Rank scores: [0.19393939393939394, 0.38181818181818183]\n"
     ]
    },
    {
     "name": "stderr",
     "output_type": "stream",
     "text": [
      "Reranking chunks: 100%|██████████| 10/10 [00:12<00:00,  1.22s/it]\n"
     ]
    },
    {
     "name": "stdout",
     "output_type": "stream",
     "text": [
      "Retrieved chunks similarity score: [1.000000238418579, 0.7386410236358643, 0.8395041227340698, 0.5256891250610352, 0.41788288950920105]\n",
      "Retrieved chunks similarity score: [0.6134555339813232, 0.4366194009780884, 0.5816356539726257, 0.3835964500904083, 0.5404318571090698]\n",
      "Position scores: [1.0, 0.0]\n",
      "Max scores: [1.000000238418579, 0.6134555339813232]\n",
      "Rank scores: [0.05, 0.25]\n",
      "Raw Data Source: ba\n",
      "Raw Classification: The question is classified as 'Reasoning'. It requires an analysis of the relationships between the bank's actions (repurchasing shares and updating the board of directors) and the relevant regulatory requirements. This involves deducing what specific laws and regulations apply in this context rather than simply retrieving facts.\n",
      "VectorDB Chunks: ['ba-1970-9a.2', 'ba-1970-9.3', 'ba-1970-10.2a', 'ba-1970-55t.4', 'ba-1970-16.3', 'ba-1970-9a.3b', 'ba-1970-10a.3', 'ba-1970-9a.3', 'ba-1970-55y.3', 'ba-1970-65.2']\n",
      "Retrieved chunks similarity score: [0.7386410236358643, 1.000000238418579, 0.4182462990283966, 0.8395041227340698, 0.7424059510231018, 0.5256891250610352, 0.6454722285270691, 0.5461552143096924, 0.4420489966869354, 0.41788288950920105]\n",
      "Retrieved chunks similarity score: [0.4366194009780884, 0.6134555339813232, 0.48207101225852966, 0.5816356539726257, 0.62535560131073, 0.3835964500904083, 0.6356039643287659, 0.39801573753356934, 0.3280740976333618, 0.5404318571090698]\n",
      "Position scores: [0.9, 0.0]\n",
      "Max scores: [1.000000238418579, 0.6356039643287659]\n",
      "Rank scores: [0.19393939393939394, 0.38181818181818183]\n"
     ]
    },
    {
     "name": "stderr",
     "output_type": "stream",
     "text": [
      "Reranking chunks: 100%|██████████| 10/10 [00:11<00:00,  1.19s/it]\n"
     ]
    },
    {
     "name": "stdout",
     "output_type": "stream",
     "text": [
      "Retrieved chunks similarity score: [1.000000238418579, 0.7386410236358643, 0.8395041227340698, 0.5256891250610352, 0.41788288950920105]\n",
      "Retrieved chunks similarity score: [0.6134555339813232, 0.4366194009780884, 0.5816356539726257, 0.3835964500904083, 0.5404318571090698]\n",
      "Position scores: [1.0, 0.0]\n",
      "Max scores: [1.000000238418579, 0.6134555339813232]\n",
      "Rank scores: [0.05, 0.25]\n",
      "Raw Data Source: ba\n",
      "Raw Classification: Reasoning\n",
      "VectorDB Chunks: ['ba-1970-10a.3', 'ba-1970-38.4', 'ba-1970-9.5a', 'ba-1970-58.8', 'ba-1970-65.2', 'ba-1970-38.6e', 'ba-1970-39a.3', 'ba-1970-49.1', 'ba-1970-10.5', 'ba-1970-65.5']\n",
      "Retrieved chunks similarity score: [0.42812538146972656, 0.2989825904369354, 0.22537986934185028, 0.3516567349433899, 0.1421690434217453, 0.19440172612667084, 0.18041980266571045, 0.18082334101200104, 0.2329459935426712, 0.22033041715621948]\n",
      "Retrieved chunks similarity score: [0.300748735666275, 0.2957405149936676, 0.2945484519004822, 0.24637092649936676, 0.39583849906921387, 0.3419288694858551, 0.46275532245635986, 0.31206443905830383, 0.25961166620254517, 0.23610691726207733]\n",
      "Retrieved chunks similarity score: [0.31372636556625366, 0.0781601071357727, 0.0663038045167923, 0.3048545718193054, 0.10265535116195679, 0.14811725914478302, 0.12661422789096832, 0.1580982655286789, 0.0790400430560112, 0.042067643254995346]\n",
      "Retrieved chunks similarity score: [0.8216290473937988, 0.4982829689979553, 0.47323501110076904, 0.5828931331634521, 0.5331587791442871, 0.492710679769516, 0.4301404654979706, 0.40181443095207214, 0.43865031003952026, 0.39979326725006104]\n",
      "Retrieved chunks similarity score: [0.8002648949623108, 0.4514560103416443, 0.41672563552856445, 0.5712277889251709, 0.6081442832946777, 0.5833427906036377, 0.5593957304954529, 0.47735658288002014, 0.3904597759246826, 0.3419172763824463]\n",
      "Retrieved chunks similarity score: [1.0000001192092896, 0.5522184371948242, 0.5444779992103577, 0.6414388418197632, 0.6776167154312134, 0.6651701927185059, 0.6858423352241516, 0.5772002339363098, 0.5585511326789856, 0.4766210615634918]\n",
      "Retrieved chunks similarity score: [0.35539206862449646, 0.4170403480529785, 0.3553585112094879, 0.2974216341972351, 0.317756325006485, 0.39746519923210144, 0.3315906226634979, 0.42581290006637573, 0.3984113335609436, 0.36052432656288147]\n",
      "Position scores: [0.0, 0.0, 0.0, 0.0, 0.0, 1.0, 0.0]\n",
      "Max scores: [0.42812538146972656, 0.46275532245635986, 0.31372636556625366, 0.8216290473937988, 0.8002648949623108, 1.0000001192092896, 0.42581290006637573]\n",
      "Rank scores: [0.24242424242424243, 0.43636363636363634, 0.34545454545454546, 0.08484848484848485, 0.23030303030303031, 0.34545454545454546, 0.6303030303030303]\n"
     ]
    },
    {
     "name": "stderr",
     "output_type": "stream",
     "text": [
      "Reranking chunks: 100%|██████████| 10/10 [00:06<00:00,  1.61it/s]\n"
     ]
    },
    {
     "name": "stdout",
     "output_type": "stream",
     "text": [
      "Retrieved chunks similarity score: [0.42812538146972656, 0.2329459935426712, 0.22033041715621948, 0.18082334101200104, 0.19440172612667084]\n",
      "Retrieved chunks similarity score: [0.300748735666275, 0.25961166620254517, 0.23610691726207733, 0.31206443905830383, 0.3419288694858551]\n",
      "Retrieved chunks similarity score: [0.31372636556625366, 0.0790400430560112, 0.042067643254995346, 0.1580982655286789, 0.14811725914478302]\n",
      "Retrieved chunks similarity score: [0.8216290473937988, 0.43865031003952026, 0.39979326725006104, 0.40181443095207214, 0.492710679769516]\n",
      "Retrieved chunks similarity score: [0.8002648949623108, 0.3904597759246826, 0.3419172763824463, 0.47735658288002014, 0.5833427906036377]\n",
      "Retrieved chunks similarity score: [1.0000001192092896, 0.5585511326789856, 0.4766210615634918, 0.5772002339363098, 0.6651701927185059]\n",
      "Retrieved chunks similarity score: [0.35539206862449646, 0.3984113335609436, 0.36052432656288147, 0.42581290006637573, 0.39746519923210144]\n",
      "Position scores: [0.0, 0.0, 0.0, 0.0, 0.0, 1.0, 0.0]\n",
      "Max scores: [0.42812538146972656, 0.3419288694858551, 0.31372636556625366, 0.8216290473937988, 0.8002648949623108, 1.0000001192092896, 0.42581290006637573]\n",
      "Rank scores: [0.05, 0.8, 0.4, 0.35, 0.45, 0.45, 0.75]\n",
      "Raw Data Source: ba\n",
      "Raw Classification: The question is classified as 'Reasoning'. It requires inference to analyze how the two issues (unauthorized advertising and failing to meet the leverage ratio) might interact and affect the bank's regulatory standing.\n",
      "VectorDB Chunks: ['ba-1970-10a.3', 'ba-1970-38.4', 'ba-1970-9.5a', 'ba-1970-58.8', 'ba-1970-65.2', 'ba-1970-38.6e', 'ba-1970-39a.3', 'ba-1970-49.1', 'ba-1970-10.5', 'ba-1970-65.5']\n",
      "Retrieved chunks similarity score: [0.42812538146972656, 0.2989825904369354, 0.22537986934185028, 0.3516567349433899, 0.1421690434217453, 0.19440172612667084, 0.18041980266571045, 0.18082334101200104, 0.2329459935426712, 0.22033041715621948]\n",
      "Retrieved chunks similarity score: [0.300748735666275, 0.2957405149936676, 0.2945484519004822, 0.24637092649936676, 0.39583849906921387, 0.3419288694858551, 0.46275532245635986, 0.31206443905830383, 0.25961166620254517, 0.23610691726207733]\n",
      "Retrieved chunks similarity score: [0.31372636556625366, 0.0781601071357727, 0.0663038045167923, 0.3048545718193054, 0.10265535116195679, 0.14811725914478302, 0.12661422789096832, 0.1580982655286789, 0.0790400430560112, 0.042067643254995346]\n",
      "Retrieved chunks similarity score: [0.8216290473937988, 0.4982829689979553, 0.47323501110076904, 0.5828931331634521, 0.5331587791442871, 0.492710679769516, 0.4301404654979706, 0.40181443095207214, 0.43865031003952026, 0.39979326725006104]\n",
      "Retrieved chunks similarity score: [0.8002648949623108, 0.4514560103416443, 0.41672563552856445, 0.5712277889251709, 0.6081442832946777, 0.5833427906036377, 0.5593957304954529, 0.47735658288002014, 0.3904597759246826, 0.3419172763824463]\n",
      "Retrieved chunks similarity score: [1.0000001192092896, 0.5522184371948242, 0.5444779992103577, 0.6414388418197632, 0.6776167154312134, 0.6651701927185059, 0.6858423352241516, 0.5772002339363098, 0.5585511326789856, 0.4766210615634918]\n",
      "Retrieved chunks similarity score: [0.35539206862449646, 0.4170403480529785, 0.3553585112094879, 0.2974216341972351, 0.317756325006485, 0.39746519923210144, 0.3315906226634979, 0.42581290006637573, 0.3984113335609436, 0.36052432656288147]\n",
      "Position scores: [0.0, 0.0, 0.0, 0.0, 0.0, 1.0, 0.0]\n",
      "Max scores: [0.42812538146972656, 0.46275532245635986, 0.31372636556625366, 0.8216290473937988, 0.8002648949623108, 1.0000001192092896, 0.42581290006637573]\n",
      "Rank scores: [0.24242424242424243, 0.43636363636363634, 0.34545454545454546, 0.08484848484848485, 0.23030303030303031, 0.34545454545454546, 0.6303030303030303]\n"
     ]
    },
    {
     "name": "stderr",
     "output_type": "stream",
     "text": [
      "Reranking chunks: 100%|██████████| 10/10 [00:06<00:00,  1.55it/s]\n"
     ]
    },
    {
     "name": "stdout",
     "output_type": "stream",
     "text": [
      "Retrieved chunks similarity score: [0.42812538146972656, 0.2989825904369354, 0.18082334101200104, 0.22033041715621948, 0.2329459935426712]\n",
      "Retrieved chunks similarity score: [0.300748735666275, 0.2957405149936676, 0.31206443905830383, 0.23610691726207733, 0.25961166620254517]\n",
      "Retrieved chunks similarity score: [0.31372636556625366, 0.0781601071357727, 0.1580982655286789, 0.042067643254995346, 0.0790400430560112]\n",
      "Retrieved chunks similarity score: [0.8216290473937988, 0.4982829689979553, 0.40181443095207214, 0.39979326725006104, 0.43865031003952026]\n",
      "Retrieved chunks similarity score: [0.8002648949623108, 0.4514560103416443, 0.47735658288002014, 0.3419172763824463, 0.3904597759246826]\n",
      "Retrieved chunks similarity score: [1.0000001192092896, 0.5522184371948242, 0.5772002339363098, 0.4766210615634918, 0.5585511326789856]\n",
      "Retrieved chunks similarity score: [0.35539206862449646, 0.4170403480529785, 0.42581290006637573, 0.36052432656288147, 0.3984113335609436]\n",
      "Position scores: [0.0, 0.0, 0.0, 0.0, 0.0, 1.0, 0.0]\n",
      "Max scores: [0.42812538146972656, 0.31206443905830383, 0.31372636556625366, 0.8216290473937988, 0.8002648949623108, 1.0000001192092896, 0.42581290006637573]\n",
      "Rank scores: [0.2, 0.2, 0.25, 0.15, 0.1, 0.25, 0.6]\n",
      "Raw Data Source: ba\n",
      "Raw Classification: Reasoning\n",
      "VectorDB Chunks: ['ba-1970-10a.3', 'ba-1970-38.4', 'ba-1970-9.5a', 'ba-1970-58.8', 'ba-1970-65.2', 'ba-1970-38.6e', 'ba-1970-39a.3', 'ba-1970-49.1', 'ba-1970-10.5', 'ba-1970-65.5']\n",
      "Retrieved chunks similarity score: [0.42812538146972656, 0.2989825904369354, 0.22537986934185028, 0.3516567349433899, 0.1421690434217453, 0.19440172612667084, 0.18041980266571045, 0.18082334101200104, 0.2329459935426712, 0.22033041715621948]\n",
      "Retrieved chunks similarity score: [0.300748735666275, 0.2957405149936676, 0.2945484519004822, 0.24637092649936676, 0.39583849906921387, 0.3419288694858551, 0.46275532245635986, 0.31206443905830383, 0.25961166620254517, 0.23610691726207733]\n",
      "Retrieved chunks similarity score: [0.31372636556625366, 0.0781601071357727, 0.0663038045167923, 0.3048545718193054, 0.10265535116195679, 0.14811725914478302, 0.12661422789096832, 0.1580982655286789, 0.0790400430560112, 0.042067643254995346]\n",
      "Retrieved chunks similarity score: [0.8216290473937988, 0.4982829689979553, 0.47323501110076904, 0.5828931331634521, 0.5331587791442871, 0.492710679769516, 0.4301404654979706, 0.40181443095207214, 0.43865031003952026, 0.39979326725006104]\n",
      "Retrieved chunks similarity score: [0.8002648949623108, 0.4514560103416443, 0.41672563552856445, 0.5712277889251709, 0.6081442832946777, 0.5833427906036377, 0.5593957304954529, 0.47735658288002014, 0.3904597759246826, 0.3419172763824463]\n",
      "Retrieved chunks similarity score: [1.0000001192092896, 0.5522184371948242, 0.5444779992103577, 0.6414388418197632, 0.6776167154312134, 0.6651701927185059, 0.6858423352241516, 0.5772002339363098, 0.5585511326789856, 0.4766210615634918]\n",
      "Retrieved chunks similarity score: [0.35539206862449646, 0.4170403480529785, 0.3553585112094879, 0.2974216341972351, 0.317756325006485, 0.39746519923210144, 0.3315906226634979, 0.42581290006637573, 0.3984113335609436, 0.36052432656288147]\n",
      "Position scores: [0.0, 0.0, 0.0, 0.0, 0.0, 1.0, 0.0]\n",
      "Max scores: [0.42812538146972656, 0.46275532245635986, 0.31372636556625366, 0.8216290473937988, 0.8002648949623108, 1.0000001192092896, 0.42581290006637573]\n",
      "Rank scores: [0.24242424242424243, 0.43636363636363634, 0.34545454545454546, 0.08484848484848485, 0.23030303030303031, 0.34545454545454546, 0.6303030303030303]\n"
     ]
    },
    {
     "name": "stderr",
     "output_type": "stream",
     "text": [
      "Reranking chunks: 100%|██████████| 10/10 [00:07<00:00,  1.29it/s]\n"
     ]
    },
    {
     "name": "stdout",
     "output_type": "stream",
     "text": [
      "Retrieved chunks similarity score: [0.42812538146972656, 0.2989825904369354, 0.18082334101200104, 0.22033041715621948, 0.2329459935426712]\n",
      "Retrieved chunks similarity score: [0.300748735666275, 0.2957405149936676, 0.31206443905830383, 0.23610691726207733, 0.25961166620254517]\n",
      "Retrieved chunks similarity score: [0.31372636556625366, 0.0781601071357727, 0.1580982655286789, 0.042067643254995346, 0.0790400430560112]\n",
      "Retrieved chunks similarity score: [0.8216290473937988, 0.4982829689979553, 0.40181443095207214, 0.39979326725006104, 0.43865031003952026]\n",
      "Retrieved chunks similarity score: [0.8002648949623108, 0.4514560103416443, 0.47735658288002014, 0.3419172763824463, 0.3904597759246826]\n",
      "Retrieved chunks similarity score: [1.0000001192092896, 0.5522184371948242, 0.5772002339363098, 0.4766210615634918, 0.5585511326789856]\n",
      "Retrieved chunks similarity score: [0.35539206862449646, 0.4170403480529785, 0.42581290006637573, 0.36052432656288147, 0.3984113335609436]\n",
      "Position scores: [0.0, 0.0, 0.0, 0.0, 0.0, 1.0, 0.0]\n",
      "Max scores: [0.42812538146972656, 0.31206443905830383, 0.31372636556625366, 0.8216290473937988, 0.8002648949623108, 1.0000001192092896, 0.42581290006637573]\n",
      "Rank scores: [0.2, 0.2, 0.25, 0.15, 0.1, 0.25, 0.6]\n"
     ]
    }
   ],
   "source": [
    "# Get result for BFS first \n",
    "bfs_queries_evaluation = []\n",
    "bfs_retriever_method = 'bfs'\n",
    "for id, row in df_queries.iterrows():\n",
    "    for n_hop in [1, 3, 5]:\n",
    "        query = row['query']\n",
    "        correct_source = row['correct_source']\n",
    "        correct_type = row['correct_type']\n",
    "        reference_retrieval = [row['reference_retrieval']] if ',' not in row['reference_retrieval'] else row['reference_retrieval'].split(', ')\n",
    "        reference_generation = row['reference_generation']\n",
    "        evaluation = get_evaluation(query, correct_source, correct_type, reference_retrieval, reference_generation, n_hop, bfs_retriever_method)\n",
    "        bfs_queries_evaluation.append(evaluation)\n",
    "\n",
    "df_bfs = pd.DataFrame(bfs_queries_evaluation)"
   ]
  },
  {
   "cell_type": "code",
   "execution_count": null,
   "id": "89988af7",
   "metadata": {},
   "outputs": [],
   "source": [
    "df_bfs.to_csv('df_bfs.csv')"
   ]
  },
  {
   "cell_type": "code",
   "execution_count": 70,
   "id": "7128adfd",
   "metadata": {},
   "outputs": [
    {
     "name": "stdout",
     "output_type": "stream",
     "text": [
      "BFS best hop: 3\n"
     ]
    }
   ],
   "source": [
    "# Find the best hop\n",
    "df_hop_score = df_bfs.groupby('n_hops')['answer_score'].mean().reset_index()\n",
    "bfs_best_hop = int(df_hop_score.sort_values(by=['answer_score', 'n_hops'], ascending=[False, True]).iloc[0]['n_hops'])\n",
    "print('BFS best hop:', bfs_best_hop)"
   ]
  },
  {
   "cell_type": "code",
   "execution_count": 72,
   "id": "ed035d98",
   "metadata": {},
   "outputs": [
    {
     "data": {
      "text/html": [
       "<div>\n",
       "<style scoped>\n",
       "    .dataframe tbody tr th:only-of-type {\n",
       "        vertical-align: middle;\n",
       "    }\n",
       "\n",
       "    .dataframe tbody tr th {\n",
       "        vertical-align: top;\n",
       "    }\n",
       "\n",
       "    .dataframe thead th {\n",
       "        text-align: right;\n",
       "    }\n",
       "</style>\n",
       "<table border=\"1\" class=\"dataframe\">\n",
       "  <thead>\n",
       "    <tr style=\"text-align: right;\">\n",
       "      <th></th>\n",
       "      <th>n_hops</th>\n",
       "      <th>answer_score</th>\n",
       "    </tr>\n",
       "  </thead>\n",
       "  <tbody>\n",
       "    <tr>\n",
       "      <th>0</th>\n",
       "      <td>1</td>\n",
       "      <td>4.1</td>\n",
       "    </tr>\n",
       "    <tr>\n",
       "      <th>1</th>\n",
       "      <td>3</td>\n",
       "      <td>4.8</td>\n",
       "    </tr>\n",
       "    <tr>\n",
       "      <th>2</th>\n",
       "      <td>5</td>\n",
       "      <td>4.7</td>\n",
       "    </tr>\n",
       "  </tbody>\n",
       "</table>\n",
       "</div>"
      ],
      "text/plain": [
       "   n_hops  answer_score\n",
       "0       1           4.1\n",
       "1       3           4.8\n",
       "2       5           4.7"
      ]
     },
     "execution_count": 72,
     "metadata": {},
     "output_type": "execute_result"
    }
   ],
   "source": [
    "df_hop_score"
   ]
  },
  {
   "cell_type": "code",
   "execution_count": null,
   "id": "ff81cab2",
   "metadata": {},
   "outputs": [
    {
     "name": "stdout",
     "output_type": "stream",
     "text": [
      "Query: What is the minimum paid-up capital required for a bank incorporated in Singapore?\n",
      "Raw Data Source: ba\n",
      "Raw Classification: Factual\n",
      "VectorDB Chunks: ['ba-1970-9.1', 'ba-1970-9.2', 'ba-1970-9.3a', 'ba-1970-9.2a', 'ba-1970-55t.6', 'ba-1970-10.1', 'ba-1970-55t.2', 'ba-1970-55t.1', 'ba-1970-9a.3a', 'ba-1970-40.1']\n",
      "Retrieved chunks similarity score: [0.9999998807907104, 0.8203828930854797, 0.7704546451568604, 0.7668531537055969, 0.75835782289505, 0.7692022919654846, 0.7747294902801514, 0.8659762740135193, 0.7862464785575867, 0.7480430006980896]\n",
      "Position scores: [1.0]\n",
      "Max scores: [0.9999998807907104]\n",
      "Rank scores: [0.32727272727272727]\n"
     ]
    },
    {
     "name": "stderr",
     "output_type": "stream",
     "text": [
      "Reranking chunks: 100%|██████████| 8/8 [00:03<00:00,  2.11it/s]s]\n",
      "Reranking chunks: 100%|██████████| 8/8 [00:02<00:00,  3.34it/s]\n",
      "Reranking chunks: 100%|██████████| 8/8 [00:02<00:00,  3.38it/s]\n",
      "Reranking chunks: 100%|██████████| 7/7 [00:01<00:00,  3.69it/s]\n",
      "Reranking chunks: 100%|██████████| 5/5 [00:01<00:00,  3.13it/s]\n",
      "Reranking chunks: 100%|██████████| 28/28 [00:08<00:00,  3.32it/s]\n",
      "Reranking chunks: 100%|██████████| 6/6 [00:01<00:00,  3.87it/s]\n",
      "Reranking chunks: 100%|██████████| 4/4 [00:01<00:00,  2.83it/s]\n",
      "Reranking chunks: 100%|██████████| 6/6 [00:01<00:00,  3.57it/s]\n",
      "Reranking chunks: 100%|██████████| 7/7 [00:02<00:00,  2.93it/s]\n",
      "Reranking chunks: 100%|██████████| 23/23 [00:05<00:00,  4.22it/s].28s/it]\n",
      "Reranking chunks: 100%|██████████| 23/23 [00:06<00:00,  3.68it/s]\n",
      "Reranking chunks: 100%|██████████| 8/8 [00:03<00:00,  2.06it/s]\n",
      "Reranking chunks: 100%|██████████| 8/8 [00:02<00:00,  2.74it/s]\n",
      "Reranking chunks: 100%|██████████| 4/4 [00:01<00:00,  3.29it/s]\n",
      "Reranking chunks: 100%|██████████| 6/6 [00:01<00:00,  3.14it/s]\n",
      "Reranking chunks: 100%|██████████| 4/4 [00:01<00:00,  2.83it/s]\n",
      "Reranking chunks: 100%|██████████| 5/5 [00:01<00:00,  3.18it/s]\n",
      "Reranking chunks: 100%|██████████| 28/28 [00:08<00:00,  3.48it/s]\n",
      "Reranking chunks: 100%|██████████| 102/102 [00:29<00:00,  3.44it/s]\n",
      "Reranking chunks: 100%|██████████| 6/6 [00:01<00:00,  3.36it/s]75.44s/it]\n",
      "Reranking chunks: 100%|██████████| 6/6 [00:01<00:00,  3.16it/s]\n",
      "Reranking chunks: 100%|██████████| 23/23 [00:06<00:00,  3.71it/s]\n",
      "Reranking chunks: 100%|██████████| 23/23 [00:05<00:00,  4.38it/s]\n",
      "Reranking chunks: 100%|██████████| 4/4 [00:01<00:00,  2.06it/s]\n",
      "Reranking chunks: 100%|██████████| 23/23 [00:06<00:00,  3.77it/s]\n",
      "Reranking chunks: 100%|██████████| 4/4 [00:01<00:00,  2.80it/s]\n",
      "Reranking chunks: 100%|██████████| 63/63 [00:19<00:00,  3.27it/s]\n",
      "Reranking chunks: 100%|██████████| 6/6 [00:01<00:00,  3.34it/s]\n",
      "Reranking chunks: 100%|██████████| 28/28 [00:08<00:00,  3.37it/s]\n",
      "Getting next chunk in path: 100%|██████████| 3/3 [03:50<00:00, 76.70s/it]\n"
     ]
    },
    {
     "name": "stdout",
     "output_type": "stream",
     "text": [
      "Root: ba-1970-9.1//Path_id: ['ba-1970-9.1', 'ba-1970-9a.1', 'ba-1970-9.3', 'ba-1970-10.1']//Text: ['9(1) Subject to this Act, a company must not be granted a bank licence unless — (a) where the company intends to carry on banking business in Singapore as a bank incorporated in Singapore, its paid‑up capital is at least $1,500 million or such other amount as may be prescribed, and its capital funds are at least that amount; or (b) where the company intends to carry on banking business in Singapore through a branch or office located in Singapore, its head office capital funds are at least the equivalent of $200 million. [5/2016; 1/2020]', '9A(1) Despite section 9, a company incorporated in Singapore which is a qualifying subsidiary may be granted a bank licence under section 7 if its paid‑up capital is at least $100 million. [5/2016; 1/2020]', '9(3) A bank incorporated in Singapore must not reduce its paid‑up capital, or purchase or otherwise acquire shares issued by the bank if such shares are to be held as treasury shares, without the approval of the Authority.', '10(1) The Authority may, by written notice, require any bank in Singapore or class of banks in Singapore to maintain capital funds in Singapore of such amount (not being less than the minimum prescribed in section 9 or 9A, as the case may be) and in such manner as the Authority considers appropriate, having regard to the risks arising from the activities of the bank or class of banks (as the case may be) and such other factors as the Authority considers relevant.']\n",
      "Root: ba-1970-9.2//Path_id: ['ba-1970-9.2', 'ba-1970-9a.1', 'ba-1970-9.3', 'ba-1970-10.1']//Text: ['9(2) Subject to subsection (2A), the paid‑up capital and capital funds of a bank incorporated in Singapore must be denominated in Singapore dollars or any currency approved by the Authority, and must be in ordinary shares. [5/2016]', '9A(1) Despite section 9, a company incorporated in Singapore which is a qualifying subsidiary may be granted a bank licence under section 7 if its paid‑up capital is at least $100 million. [5/2016; 1/2020]', '9(3) A bank incorporated in Singapore must not reduce its paid‑up capital, or purchase or otherwise acquire shares issued by the bank if such shares are to be held as treasury shares, without the approval of the Authority.', '10(1) The Authority may, by written notice, require any bank in Singapore or class of banks in Singapore to maintain capital funds in Singapore of such amount (not being less than the minimum prescribed in section 9 or 9A, as the case may be) and in such manner as the Authority considers appropriate, having regard to the risks arising from the activities of the bank or class of banks (as the case may be) and such other factors as the Authority considers relevant.']\n",
      "Root: ba-1970-9.3a//Path_id: ['ba-1970-9.3a', 'ba-1970-9.1', 'ba-1970-9a.1', 'ba-1970-9.3']//Text: ['9(3A) A bank must at all times maintain — (a) if it is a bank incorporated in Singapore, capital funds of at least the amount mentioned in subsection (1)(a); or (b) if it is a bank incorporated outside Singapore, head office capital funds of at least the equivalent of the amount mentioned in subsection (1)(b). [5/2016]', '9(1) Subject to this Act, a company must not be granted a bank licence unless — (a) where the company intends to carry on banking business in Singapore as a bank incorporated in Singapore, its paid‑up capital is at least $1,500 million or such other amount as may be prescribed, and its capital funds are at least that amount; or (b) where the company intends to carry on banking business in Singapore through a branch or office located in Singapore, its head office capital funds are at least the equivalent of $200 million. [5/2016; 1/2020]', '9A(1) Despite section 9, a company incorporated in Singapore which is a qualifying subsidiary may be granted a bank licence under section 7 if its paid‑up capital is at least $100 million. [5/2016; 1/2020]', '9(3) A bank incorporated in Singapore must not reduce its paid‑up capital, or purchase or otherwise acquire shares issued by the bank if such shares are to be held as treasury shares, without the approval of the Authority.']\n",
      "Root: ba-1970-9.2a//Path_id: ['ba-1970-9.2a', 'ba-1970-9.1', 'ba-1970-9a.1', 'ba-1970-9.3']//Text: ['9(2A) Any amount of paid‑up capital or capital funds of a bank incorporated in Singapore above the amount mentioned in subsection (1)(a) may be denominated in any currency, and may be in any type of shares. [5/2016]', '9(1) Subject to this Act, a company must not be granted a bank licence unless — (a) where the company intends to carry on banking business in Singapore as a bank incorporated in Singapore, its paid‑up capital is at least $1,500 million or such other amount as may be prescribed, and its capital funds are at least that amount; or (b) where the company intends to carry on banking business in Singapore through a branch or office located in Singapore, its head office capital funds are at least the equivalent of $200 million. [5/2016; 1/2020]', '9A(1) Despite section 9, a company incorporated in Singapore which is a qualifying subsidiary may be granted a bank licence under section 7 if its paid‑up capital is at least $100 million. [5/2016; 1/2020]', '9(3) A bank incorporated in Singapore must not reduce its paid‑up capital, or purchase or otherwise acquire shares issued by the bank if such shares are to be held as treasury shares, without the approval of the Authority.']\n",
      "Root: ba-1970-55t.6//Path_id: ['ba-1970-55t.6', 'ba-1970-55t.1', 'ba-1970-55t.3', 'ba-1970-55t.2']//Text: ['55T(6) A merchant bank must at all times maintain — (a) if it is incorporated in Singapore — paid‑up capital and capital funds of at least the amount mentioned in subsection (1)(a); or (b) if it is incorporated outside Singapore — head office capital funds of at least the equivalent of the amount mentioned in subsection (1)(b). [1/2020]', '55T(1) A company must not be granted a merchant bank licence unless — (a) where the company intends to carry on a permitted business in Singapore as a merchant bank incorporated in Singapore, its paid‑up capital and capital funds — (i) are in ordinary shares; (ii) are denominated in Singapore dollars, or another currency approved by the Authority in a particular case by written notice to the company; and (iii) are each at least $15 million or another amount determined by the Authority in a particular case by written notice to the company; or (b) where the company intends to carry on a permitted business in Singapore through a branch or office located in Singapore, its head office capital funds are at least the equivalent of $200 million or another amount determined by the Authority in a particular case by written notice to the company. [1/2020]', '55T(3) Any amount of paid-up capital or capital funds of a merchant bank incorporated in Singapore that is above the amount mentioned in subsection (1)(a) may be denominated in any currency, and may be in any type of shares. [1/2020]', '55T(2) Subject to subsection (3), the paid‑up capital and capital funds of a merchant bank incorporated in Singapore — (a) must at all times be denominated in Singapore dollars or another currency approved by the Authority in a particular case by written notice to the merchant bank; and (b) must at all times be in ordinary shares. [1/2020]']\n",
      "Root: ba-1970-10.1//Path_id: ['ba-1970-10.1', 'ba-1970-9.3', 'ba-1970-9a.1', 'ba-1970-9.1']//Text: ['10(1) The Authority may, by written notice, require any bank in Singapore or class of banks in Singapore to maintain capital funds in Singapore of such amount (not being less than the minimum prescribed in section 9 or 9A, as the case may be) and in such manner as the Authority considers appropriate, having regard to the risks arising from the activities of the bank or class of banks (as the case may be) and such other factors as the Authority considers relevant.', '9(3) A bank incorporated in Singapore must not reduce its paid‑up capital, or purchase or otherwise acquire shares issued by the bank if such shares are to be held as treasury shares, without the approval of the Authority.', '9A(1) Despite section 9, a company incorporated in Singapore which is a qualifying subsidiary may be granted a bank licence under section 7 if its paid‑up capital is at least $100 million. [5/2016; 1/2020]', '9(1) Subject to this Act, a company must not be granted a bank licence unless — (a) where the company intends to carry on banking business in Singapore as a bank incorporated in Singapore, its paid‑up capital is at least $1,500 million or such other amount as may be prescribed, and its capital funds are at least that amount; or (b) where the company intends to carry on banking business in Singapore through a branch or office located in Singapore, its head office capital funds are at least the equivalent of $200 million. [5/2016; 1/2020]']\n",
      "Root: ba-1970-55t.2//Path_id: ['ba-1970-55t.2', 'ba-1970-55t.3', 'ba-1970-55t.1', 'ba-1970-55t.6']//Text: ['55T(2) Subject to subsection (3), the paid‑up capital and capital funds of a merchant bank incorporated in Singapore — (a) must at all times be denominated in Singapore dollars or another currency approved by the Authority in a particular case by written notice to the merchant bank; and (b) must at all times be in ordinary shares. [1/2020]', '55T(3) Any amount of paid-up capital or capital funds of a merchant bank incorporated in Singapore that is above the amount mentioned in subsection (1)(a) may be denominated in any currency, and may be in any type of shares. [1/2020]', '55T(1) A company must not be granted a merchant bank licence unless — (a) where the company intends to carry on a permitted business in Singapore as a merchant bank incorporated in Singapore, its paid‑up capital and capital funds — (i) are in ordinary shares; (ii) are denominated in Singapore dollars, or another currency approved by the Authority in a particular case by written notice to the company; and (iii) are each at least $15 million or another amount determined by the Authority in a particular case by written notice to the company; or (b) where the company intends to carry on a permitted business in Singapore through a branch or office located in Singapore, its head office capital funds are at least the equivalent of $200 million or another amount determined by the Authority in a particular case by written notice to the company. [1/2020]', '55T(6) A merchant bank must at all times maintain — (a) if it is incorporated in Singapore — paid‑up capital and capital funds of at least the amount mentioned in subsection (1)(a); or (b) if it is incorporated outside Singapore — head office capital funds of at least the equivalent of the amount mentioned in subsection (1)(b). [1/2020]']\n",
      "Root: ba-1970-55t.1//Path_id: ['ba-1970-55t.1', 'ba-1970-55t.6', 'ba-1970-55zb.2', 'ba-1970-9.3']//Text: ['55T(1) A company must not be granted a merchant bank licence unless — (a) where the company intends to carry on a permitted business in Singapore as a merchant bank incorporated in Singapore, its paid‑up capital and capital funds — (i) are in ordinary shares; (ii) are denominated in Singapore dollars, or another currency approved by the Authority in a particular case by written notice to the company; and (iii) are each at least $15 million or another amount determined by the Authority in a particular case by written notice to the company; or (b) where the company intends to carry on a permitted business in Singapore through a branch or office located in Singapore, its head office capital funds are at least the equivalent of $200 million or another amount determined by the Authority in a particular case by written notice to the company. [1/2020]', '55T(6) A merchant bank must at all times maintain — (a) if it is incorporated in Singapore — paid‑up capital and capital funds of at least the amount mentioned in subsection (1)(a); or (b) if it is incorporated outside Singapore — head office capital funds of at least the equivalent of the amount mentioned in subsection (1)(b). [1/2020]', '55ZB(2) The modifications mentioned in subsection (1) are — (a) subsection (2) of section 8 is omitted; (b) the reference in section 10(1) to section 9 or 9A is to section 55T; (c) the reference in section 10(1) to capital funds required to be maintained by a bank in Singapore is to capital funds required to be maintained by a merchant bank in Singapore; (d) the reference in section 10B(2)(f)(ii) to a major stake as defined in section 32(7) is to a major stake as defined in section 55ZF(2)(a); (e) the reference in section 11A to the Authority’s refusal to grant a bank licence under section 7(3) is to the Authority’s refusal to grant a merchant bank licence under section 55S(3)(b); (f) the reference in section 12(1) to any business referred to in subsection (2) of section 12 is to any business whatsoever; (g) subsection (2) of section 12 is omitted; and (h) the reference in section 21(1) to section 20 is to section 55ZA. [1/2020] Division 3 — Balance sheets and information', '9(3) A bank incorporated in Singapore must not reduce its paid‑up capital, or purchase or otherwise acquire shares issued by the bank if such shares are to be held as treasury shares, without the approval of the Authority.']\n",
      "Root: ba-1970-9a.3a//Path_id: ['ba-1970-9a.3a', 'ba-1970-10.1', 'ba-1970-9.3', 'ba-1970-9a.1']//Text: ['9A(3A) Subject to subsection (3B), the paid‑up capital and capital funds of a bank which is a qualifying subsidiary must be denominated in Singapore dollars or any currency approved by the Authority, and must be in ordinary shares. [5/2016]', '10(1) The Authority may, by written notice, require any bank in Singapore or class of banks in Singapore to maintain capital funds in Singapore of such amount (not being less than the minimum prescribed in section 9 or 9A, as the case may be) and in such manner as the Authority considers appropriate, having regard to the risks arising from the activities of the bank or class of banks (as the case may be) and such other factors as the Authority considers relevant.', '9(3) A bank incorporated in Singapore must not reduce its paid‑up capital, or purchase or otherwise acquire shares issued by the bank if such shares are to be held as treasury shares, without the approval of the Authority.', '9A(1) Despite section 9, a company incorporated in Singapore which is a qualifying subsidiary may be granted a bank licence under section 7 if its paid‑up capital is at least $100 million. [5/2016; 1/2020]']\n",
      "Root: ba-1970-40.1//Path_id: ['ba-1970-40.1', 'ba-1970-65.2', 'ba-1970-10.1', 'ba-1970-9.3']//Text: ['40(1) The Authority may, from time to time, by written notice to any bank in Singapore or any class of banks in Singapore, impose requirements in relation to the minimum amount or amounts of assets in Singapore that the bank or each bank in the class is to hold, for the purpose of meeting its liabilities. [5/2016]', '65(2) Without affecting sections 10, 10A, 10C, 23, 27, 29, 29A, 31, 32, 33, 35, 38, 39, 40 and 42 or any other subsection of this section, the Authority may, for the purpose of securing compliance with any of those provisions, or any regulation, notice or direction made or issued under any of those sections (other than this section), on a consolidated basis, from time to time by written notice, require any bank to aggregate, in such manner as may be specified in the notice — (a) its assets, liabilities, profits or losses, and any other information whether or not on its balance sheet; and (b) the assets, liabilities, profits or losses, and any other information whether or not on the balance sheets of — (i) the bank’s related corporations; and (ii) the entities in which the bank holds, directly or indirectly, a major stake as defined in section 32(7). [5/2016; 1/2020]', '10(1) The Authority may, by written notice, require any bank in Singapore or class of banks in Singapore to maintain capital funds in Singapore of such amount (not being less than the minimum prescribed in section 9 or 9A, as the case may be) and in such manner as the Authority considers appropriate, having regard to the risks arising from the activities of the bank or class of banks (as the case may be) and such other factors as the Authority considers relevant.', '9(3) A bank incorporated in Singapore must not reduce its paid‑up capital, or purchase or otherwise acquire shares issued by the bank if such shares are to be held as treasury shares, without the approval of the Authority.']\n"
     ]
    },
    {
     "name": "stderr",
     "output_type": "stream",
     "text": [
      "Reranking chunks: 100%|██████████| 10/10 [00:08<00:00,  1.14it/s]\n"
     ]
    },
    {
     "name": "stdout",
     "output_type": "stream",
     "text": [
      "['(ba-1970-9.2) 9(2) Subject to subsection (2A), the paid‑up capital and capital funds of a bank incorporated in Singapore must be denominated in Singapore dollars or any currency approved by the Authority, and must be in ordinary shares. [5/2016]   (ba-1970-9a.1) 9A(1) Despite section 9, a company incorporated in Singapore which is a qualifying subsidiary may be granted a bank licence under section 7 if its paid‑up capital is at least $100 million. [5/2016; 1/2020]   (ba-1970-9.3) 9(3) A bank incorporated in Singapore must not reduce its paid‑up capital, or purchase or otherwise acquire shares issued by the bank if such shares are to be held as treasury shares, without the approval of the Authority.   (ba-1970-10.1) 10(1) The Authority may, by written notice, require any bank in Singapore or class of banks in Singapore to maintain capital funds in Singapore of such amount (not being less than the minimum prescribed in section 9 or 9A, as the case may be) and in such manner as the Authority considers appropriate, having regard to the risks arising from the activities of the bank or class of banks (as the case may be) and such other factors as the Authority considers relevant.   ', '(ba-1970-9.2a) 9(2A) Any amount of paid‑up capital or capital funds of a bank incorporated in Singapore above the amount mentioned in subsection (1)(a) may be denominated in any currency, and may be in any type of shares. [5/2016]   (ba-1970-9.1) 9(1) Subject to this Act, a company must not be granted a bank licence unless — (a) where the company intends to carry on banking business in Singapore as a bank incorporated in Singapore, its paid‑up capital is at least $1,500 million or such other amount as may be prescribed, and its capital funds are at least that amount; or (b) where the company intends to carry on banking business in Singapore through a branch or office located in Singapore, its head office capital funds are at least the equivalent of $200 million. [5/2016; 1/2020]   (ba-1970-9a.1) 9A(1) Despite section 9, a company incorporated in Singapore which is a qualifying subsidiary may be granted a bank licence under section 7 if its paid‑up capital is at least $100 million. [5/2016; 1/2020]   (ba-1970-9.3) 9(3) A bank incorporated in Singapore must not reduce its paid‑up capital, or purchase or otherwise acquire shares issued by the bank if such shares are to be held as treasury shares, without the approval of the Authority.   ', '(ba-1970-9.3a) 9(3A) A bank must at all times maintain — (a) if it is a bank incorporated in Singapore, capital funds of at least the amount mentioned in subsection (1)(a); or (b) if it is a bank incorporated outside Singapore, head office capital funds of at least the equivalent of the amount mentioned in subsection (1)(b). [5/2016]   (ba-1970-9.1) 9(1) Subject to this Act, a company must not be granted a bank licence unless — (a) where the company intends to carry on banking business in Singapore as a bank incorporated in Singapore, its paid‑up capital is at least $1,500 million or such other amount as may be prescribed, and its capital funds are at least that amount; or (b) where the company intends to carry on banking business in Singapore through a branch or office located in Singapore, its head office capital funds are at least the equivalent of $200 million. [5/2016; 1/2020]   (ba-1970-9a.1) 9A(1) Despite section 9, a company incorporated in Singapore which is a qualifying subsidiary may be granted a bank licence under section 7 if its paid‑up capital is at least $100 million. [5/2016; 1/2020]   (ba-1970-9.3) 9(3) A bank incorporated in Singapore must not reduce its paid‑up capital, or purchase or otherwise acquire shares issued by the bank if such shares are to be held as treasury shares, without the approval of the Authority.   ', '(ba-1970-10.1) 10(1) The Authority may, by written notice, require any bank in Singapore or class of banks in Singapore to maintain capital funds in Singapore of such amount (not being less than the minimum prescribed in section 9 or 9A, as the case may be) and in such manner as the Authority considers appropriate, having regard to the risks arising from the activities of the bank or class of banks (as the case may be) and such other factors as the Authority considers relevant.   (ba-1970-9.3) 9(3) A bank incorporated in Singapore must not reduce its paid‑up capital, or purchase or otherwise acquire shares issued by the bank if such shares are to be held as treasury shares, without the approval of the Authority.   (ba-1970-9a.1) 9A(1) Despite section 9, a company incorporated in Singapore which is a qualifying subsidiary may be granted a bank licence under section 7 if its paid‑up capital is at least $100 million. [5/2016; 1/2020]   (ba-1970-9.1) 9(1) Subject to this Act, a company must not be granted a bank licence unless — (a) where the company intends to carry on banking business in Singapore as a bank incorporated in Singapore, its paid‑up capital is at least $1,500 million or such other amount as may be prescribed, and its capital funds are at least that amount; or (b) where the company intends to carry on banking business in Singapore through a branch or office located in Singapore, its head office capital funds are at least the equivalent of $200 million. [5/2016; 1/2020]   ', '(ba-1970-9a.3a) 9A(3A) Subject to subsection (3B), the paid‑up capital and capital funds of a bank which is a qualifying subsidiary must be denominated in Singapore dollars or any currency approved by the Authority, and must be in ordinary shares. [5/2016]   (ba-1970-10.1) 10(1) The Authority may, by written notice, require any bank in Singapore or class of banks in Singapore to maintain capital funds in Singapore of such amount (not being less than the minimum prescribed in section 9 or 9A, as the case may be) and in such manner as the Authority considers appropriate, having regard to the risks arising from the activities of the bank or class of banks (as the case may be) and such other factors as the Authority considers relevant.   (ba-1970-9.3) 9(3) A bank incorporated in Singapore must not reduce its paid‑up capital, or purchase or otherwise acquire shares issued by the bank if such shares are to be held as treasury shares, without the approval of the Authority.   (ba-1970-9a.1) 9A(1) Despite section 9, a company incorporated in Singapore which is a qualifying subsidiary may be granted a bank licence under section 7 if its paid‑up capital is at least $100 million. [5/2016; 1/2020]   ']\n",
      "Length Reranked chunks: 5\n",
      "Reranker ids: ['ba-1970-9.2', 'ba-1970-9.2a', 'ba-1970-9.3a', 'ba-1970-10.1', 'ba-1970-9a.3a']\n",
      "Retrieved chunks similarity score: [0.8203828930854797, 0.7668531537055969, 0.7704546451568604, 0.7692022919654846, 0.7862464785575867]\n",
      "Position scores: [0.0]\n",
      "Max scores: [0.8203828930854797]\n",
      "Rank scores: [0.45]\n",
      "---------------------------------------------------\n",
      "\n"
     ]
    }
   ],
   "source": [
    "# Get result for DFS\n",
    "dfs_queries_evaluation = []\n",
    "for id, row in df_queries.iterrows():\n",
    "    query = row['query']\n",
    "    correct_source = row['correct_source']\n",
    "    correct_type = row['correct_type']\n",
    "    reference_retrieval = [row['reference_retrieval']] if ',' not in row['reference_retrieval'] else row['reference_retrieval'].split(', ')\n",
    "    reference_generation = row['reference_generation']\n",
    "    evaluation = get_evaluation(query, correct_source, correct_type, reference_retrieval, reference_generation, n_hop=bfs_best_hop, retriever_method='dfs')\n",
    "    dfs_queries_evaluation.append(evaluation)\n",
    "\n",
    "df_dfs = pd.DataFrame(dfs_queries_evaluation)"
   ]
  },
  {
   "cell_type": "code",
   "execution_count": null,
   "id": "6ee61563",
   "metadata": {},
   "outputs": [],
   "source": [
    "df_dfs.to_csv('df_dfs.csv')"
   ]
  },
  {
   "cell_type": "code",
   "execution_count": 61,
   "id": "e2850e56",
   "metadata": {},
   "outputs": [
    {
     "name": "stdout",
     "output_type": "stream",
     "text": [
      "Query: What is the minimum paid-up capital required for a bank incorporated in Singapore?\n",
      "Raw Data Source: ba\n",
      "Raw Classification: Factual\n",
      "VectorDB Chunks: ['ba-1970-9.1', 'ba-1970-9.2', 'ba-1970-9.3a', 'ba-1970-9.2a', 'ba-1970-55t.6', 'ba-1970-10.1', 'ba-1970-55t.2', 'ba-1970-55t.1', 'ba-1970-9a.3a', 'ba-1970-40.1']\n",
      "Retrieved chunks similarity score: [0.9999998807907104, 0.8203828930854797, 0.7704546451568604, 0.7668531537055969, 0.75835782289505, 0.7692022919654846, 0.7747294902801514, 0.8659762740135193, 0.7862464785575867, 0.7480430006980896]\n",
      "Position scores: [1.0]\n",
      "Max scores: [0.9999998807907104]\n",
      "Rank scores: [0.32727272727272727]\n",
      "Document: ID: ba-1970-9.1\n",
      "9(1) Subject to this Act, a company must not be granted a bank licence unless — (a) ...\n",
      "Combined Score: 0.8994671702384949\n",
      "--------------------------------------------------\n",
      "Document: ID: ba-1970-9.2\n",
      "9(2) Subject to subsection (2A), the paid‑up capital and capital funds of a bank inc...\n",
      "Combined Score: 0.8976037502288818\n",
      "--------------------------------------------------\n",
      "Document: ID: ba-1970-9.2a\n",
      "9(2A) Any amount of paid‑up capital or capital funds of a bank incorporated in Sing...\n",
      "Combined Score: 0.8756951689720154\n",
      "--------------------------------------------------\n",
      "Document: ID: ba-1970-9.3a\n",
      "9(3A) A bank must at all times maintain — (a) if it is a bank incorporated in Singa...\n",
      "Combined Score: 0.8662835359573364\n",
      "--------------------------------------------------\n",
      "Document: ID: ba-1970-10.1\n",
      "10(1) The Authority may, by written notice, require any bank in Singapore or class ...\n",
      "Combined Score: 0.8549039959907532\n",
      "--------------------------------------------------\n",
      "Document: ID: ba-1970-55t.2\n",
      "55T(2) Subject to subsection (3), the paid‑up capital and capital funds of a merch...\n",
      "Combined Score: 0.7965478897094727\n",
      "--------------------------------------------------\n",
      "Document: ID: ba-1970-55t.6\n",
      "55T(6) A merchant bank must at all times maintain — (a) if it is incorporated in S...\n",
      "Combined Score: 0.7963196635246277\n",
      "--------------------------------------------------\n",
      "Document: ID: ba-1970-55t.1\n",
      "55T(1) A company must not be granted a merchant bank licence unless — (a) where th...\n",
      "Combined Score: 0.7930516600608826\n",
      "--------------------------------------------------\n",
      "Document: ID: ba-1970-9a.3a\n",
      "9A(3A) Subject to subsection (3B), the paid‑up capital and capital funds of a bank...\n",
      "Combined Score: 0.789872407913208\n",
      "--------------------------------------------------\n",
      "Document: ID: ba-1970-40.1\n",
      "40(1) The Authority may, from time to time, by written notice to any bank in Singap...\n",
      "Combined Score: 0.785568356513977\n",
      "--------------------------------------------------\n",
      "['ID: ba-1970-9.1\\n9(1) Subject to this Act, a company must not be granted a bank licence unless — (a) where the company intends to carry on banking business in Singapore as a bank incorporated in Singapore, its paid‑up capital is at least $1,500 million or such other amount as may be prescribed, and its capital funds are at least that amount; or (b) where the company intends to carry on banking business in Singapore through a branch or office located in Singapore, its head office capital funds are at least the equivalent of $200 million. [5/2016; 1/2020]', 'ID: ba-1970-9.2\\n9(2) Subject to subsection (2A), the paid‑up capital and capital funds of a bank incorporated in Singapore must be denominated in Singapore dollars or any currency approved by the Authority, and must be in ordinary shares. [5/2016]', 'ID: ba-1970-9.2a\\n9(2A) Any amount of paid‑up capital or capital funds of a bank incorporated in Singapore above the amount mentioned in subsection (1)(a) may be denominated in any currency, and may be in any type of shares. [5/2016]', 'ID: ba-1970-9.3a\\n9(3A) A bank must at all times maintain — (a) if it is a bank incorporated in Singapore, capital funds of at least the amount mentioned in subsection (1)(a); or (b) if it is a bank incorporated outside Singapore, head office capital funds of at least the equivalent of the amount mentioned in subsection (1)(b). [5/2016]', 'ID: ba-1970-10.1\\n10(1) The Authority may, by written notice, require any bank in Singapore or class of banks in Singapore to maintain capital funds in Singapore of such amount (not being less than the minimum prescribed in section 9 or 9A, as the case may be) and in such manner as the Authority considers appropriate, having regard to the risks arising from the activities of the bank or class of banks (as the case may be) and such other factors as the Authority considers relevant.']\n",
      "Length Reranked chunks: 5\n",
      "Reranker ids: ['ba-1970-9.1', 'ba-1970-9.2', 'ba-1970-9.2a', 'ba-1970-9.3a', 'ba-1970-10.1']\n",
      "Retrieved chunks similarity score: [0.9999998807907104, 0.8203828930854797, 0.7668531537055969, 0.7704546451568604, 0.7692022919654846]\n",
      "Position scores: [1.0]\n",
      "Max scores: [0.9999998807907104]\n",
      "Rank scores: [0.15]\n",
      "---------------------------------------------------\n",
      "\n"
     ]
    }
   ],
   "source": [
    "# Get result for weighted\n",
    "weighted_queries_evaluation = []\n",
    "for id, row in df_queries.iterrows():\n",
    "    query = row['query']\n",
    "    correct_source = row['correct_source']\n",
    "    correct_type = row['correct_type']\n",
    "    reference_retrieval = [row['reference_retrieval']] if ',' not in row['reference_retrieval'] else row['reference_retrieval'].split(', ')\n",
    "    reference_generation = row['reference_generation']\n",
    "    evaluation = get_evaluation(query, correct_source, correct_type, reference_retrieval, reference_generation, n_hop=bfs_best_hop, retriever_method='weighted')\n",
    "    weighted_queries_evaluation.append(evaluation)\n",
    "\n",
    "df_weighted = pd.DataFrame(weighted_queries_evaluation)"
   ]
  },
  {
   "cell_type": "code",
   "execution_count": null,
   "id": "88721ad5",
   "metadata": {},
   "outputs": [],
   "source": [
    "df_weighted.to_csv('df_weighted.csv')"
   ]
  },
  {
   "cell_type": "code",
   "execution_count": null,
   "id": "524eb37b",
   "metadata": {},
   "outputs": [],
   "source": [
    "df_combined = pd.concat([df_bfs, df_dfs, df_weighted])\n",
    "df_combined.to_csv('df_combined.csv')"
   ]
  },
  {
   "cell_type": "code",
   "execution_count": 69,
   "id": "35f910de",
   "metadata": {},
   "outputs": [
    {
     "name": "stdout",
     "output_type": "stream",
     "text": [
      "Best retrieval method: bfs\n"
     ]
    }
   ],
   "source": [
    "df_method_score = df_combined[df_combined['n_hops'] == bfs_best_hop].groupby('graphdb_retrieval_method')['answer_score'].mean().reset_index()\n",
    "best_method = df_method_score.sort_values(by=['answer_score'], ascending=[False]).iloc[0]['graphdb_retrieval_method']\n",
    "print('Best retrieval method:', best_method)"
   ]
  },
  {
   "cell_type": "code",
   "execution_count": null,
   "id": "59082b47",
   "metadata": {},
   "outputs": [],
   "source": [
    "df_method_score"
   ]
  }
 ],
 "metadata": {
  "kernelspec": {
   "display_name": "Python 3",
   "language": "python",
   "name": "python3"
  },
  "language_info": {
   "codemirror_mode": {
    "name": "ipython",
    "version": 3
   },
   "file_extension": ".py",
   "mimetype": "text/x-python",
   "name": "python",
   "nbconvert_exporter": "python",
   "pygments_lexer": "ipython3",
   "version": "3.10.0"
  }
 },
 "nbformat": 4,
 "nbformat_minor": 5
}
