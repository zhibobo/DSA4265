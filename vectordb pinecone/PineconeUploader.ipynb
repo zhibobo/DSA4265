{
 "cells": [
  {
   "cell_type": "code",
   "execution_count": null,
   "metadata": {},
   "outputs": [],
   "source": [
    "# This ipynb file is to store the chunks into pinecone vectordb"
   ]
  },
  {
   "cell_type": "code",
   "execution_count": null,
   "metadata": {},
   "outputs": [
    {
     "data": {
      "text/plain": [
       "'dsa4265-group-project-ba'"
      ]
     },
     "execution_count": 12,
     "metadata": {},
     "output_type": "execute_result"
    }
   ],
   "source": [
    "from dotenv import load_dotenv\n",
    "import os\n",
    "\n",
    "load_dotenv()\n",
    "\n",
    "api_key = os.getenv(\"PINECONE_API_KEY\")\n",
    "pinecone_index_mas_name = os.getenv(\"PINECONE_INDEX_MAS_NAME\")\n",
    "pinecone_index_ba_name = os.getenv(\"PINECONE_INDEX_BA_NAME\")\n"
   ]
  },
  {
   "cell_type": "code",
   "execution_count": 30,
   "metadata": {},
   "outputs": [
    {
     "name": "stdout",
     "output_type": "stream",
     "text": [
      "📥 Loading data from ../ba_data_extraction/banking_act.json...\n",
      "🔎 Generating embeddings and preparing vectors...\n",
      "📤 Uploading 758 vectors to Pinecone index 'dsa4265-group-project-ba'...\n",
      "✅ Upserted batch 1 with 100 records.\n",
      "✅ Upserted batch 2 with 100 records.\n",
      "✅ Upserted batch 3 with 100 records.\n",
      "✅ Upserted batch 4 with 100 records.\n",
      "✅ Upserted batch 5 with 100 records.\n",
      "✅ Upserted batch 6 with 100 records.\n",
      "✅ Upserted batch 7 with 100 records.\n",
      "✅ Upserted batch 8 with 58 records.\n",
      "✅ Upload complete.\n"
     ]
    }
   ],
   "source": [
    "import os\n",
    "import json\n",
    "from typing import List, Tuple\n",
    "from dotenv import load_dotenv\n",
    "import openai\n",
    "from pinecone import Pinecone\n",
    "\n",
    "\n",
    "class PineconeUploader:\n",
    "    def __init__(self, index_name: str):\n",
    "        load_dotenv()\n",
    "\n",
    "        self.index_name = index_name\n",
    "        self.api_key = os.getenv(\"PINECONE_API_KEY\")\n",
    "        self.openai_key = os.getenv(\"OPENAI_API_KEY\")\n",
    "\n",
    "        self.pc = Pinecone(api_key=self.api_key)\n",
    "        self.index = self._get_index()\n",
    "\n",
    "        self.client = openai.OpenAI(api_key=self.openai_key)\n",
    "\n",
    "    def _get_index(self):\n",
    "        if self.index_name not in self.pc.list_indexes().names():\n",
    "            raise ValueError(f\"Index '{self.index_name}' does not exist.\")\n",
    "        return self.pc.Index(self.index_name)\n",
    "\n",
    "    def get_embedding(self, text: str) -> List[float]:\n",
    "        response = self.client.embeddings.create(\n",
    "            input=text,\n",
    "            model=\"text-embedding-3-small\"\n",
    "        )\n",
    "        embeds = [x.embedding for x in response.data]\n",
    "        return embeds[0]\n",
    "\n",
    "\n",
    "    def load_json(self, path: str) -> List[dict]:\n",
    "        with open(path, \"r\", encoding=\"utf-8\") as f:\n",
    "            return json.load(f)\n",
    "\n",
    "    def prepare_vectors(self, data: List[dict]) -> List[Tuple[str, List[float], dict]]:\n",
    "        vectors = []\n",
    "        for item in data:\n",
    "            vector_id = item[\"id\"]\n",
    "            text = item[\"text\"]\n",
    "            metadata = item[\"metadata\"]\n",
    "            metadata[\"text\"] = text\n",
    "            embedding = self.get_embedding(text)\n",
    "            vectors.append((vector_id, embedding, metadata))\n",
    "        return vectors\n",
    "\n",
    "    def upload_vectors(self, vectors: List[Tuple[str, List[float], dict]], batch_size: int = 100):\n",
    "        for i in range(0, len(vectors), batch_size):\n",
    "            batch = vectors[i:i + batch_size]\n",
    "            self.index.upsert(vectors=batch)\n",
    "            print(f\"✅ Upserted batch {i // batch_size + 1} with {len(batch)} records.\")\n",
    "\n",
    "    def upload_json_to_index(self, json_path: str):\n",
    "        print(f\"📥 Loading data from {json_path}...\")\n",
    "        data = self.load_json(json_path)\n",
    "\n",
    "        print(\"🔎 Generating embeddings and preparing vectors...\")\n",
    "        vectors = self.prepare_vectors(data)\n",
    "\n",
    "        print(f\"📤 Uploading {len(vectors)} vectors to Pinecone index '{self.index_name}'...\")\n",
    "        self.upload_vectors(vectors)\n",
    "        print(\"✅ Upload complete.\")\n",
    "\n",
    "\n",
    "if __name__ == \"__main__\":\n",
    "    uploader = PineconeUploader(index_name=os.getenv(\"PINECONE_INDEX_BA_NAME\"))\n",
    "    uploader.upload_json_to_index(\"../ba_data_extraction/banking_act.json\")\n"
   ]
  }
 ],
 "metadata": {
  "kernelspec": {
   "display_name": "Python 3",
   "language": "python",
   "name": "python3"
  },
  "language_info": {
   "codemirror_mode": {
    "name": "ipython",
    "version": 3
   },
   "file_extension": ".py",
   "mimetype": "text/x-python",
   "name": "python",
   "nbconvert_exporter": "python",
   "pygments_lexer": "ipython3",
   "version": "3.11.9"
  }
 },
 "nbformat": 4,
 "nbformat_minor": 2
}
